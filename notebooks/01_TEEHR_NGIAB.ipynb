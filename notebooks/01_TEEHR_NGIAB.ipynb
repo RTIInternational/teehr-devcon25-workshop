{
 "cells": [
  {
   "cell_type": "markdown",
   "id": "5a1621a1",
   "metadata": {},
   "source": [
    "## TEEHR Runner Notebook\n",
    "\n",
    "---"
   ]
  },
  {
   "cell_type": "code",
   "execution_count": null,
   "id": "4ff6694c",
   "metadata": {},
   "outputs": [],
   "source": [
    "print(\"Importing dependencies...\")\n",
    "from pathlib import Path\n",
    "import os\n",
    "\n",
    "import pandas as pd\n",
    "\n",
    "from utils import teehr_ngiab"
   ]
  },
  {
   "cell_type": "markdown",
   "id": "a6ea1de6-fc46-48ac-8158-4eac4e9ac70c",
   "metadata": {},
   "source": [
    "#### Setting paths"
   ]
  },
  {
   "cell_type": "code",
   "execution_count": null,
   "id": "e744540d",
   "metadata": {},
   "outputs": [],
   "source": [
    "print(\"Setting paths...\")\n",
    "NGIAB_OUTPUT_DIR = Path(\"/app/data\")\n",
    "\n",
    "TEEHR_EVALUATION_DIR = Path(\"/app/data/teehr\")\n",
    "\n",
    "TEMP_DIR = Path(TEEHR_EVALUATION_DIR, \"cache\")\n",
    "\n",
    "CROSSWALK_TABLE = Path(TEMP_DIR, \"xwalk_table.parquet\")\n",
    "LOCATIONS = Path(TEMP_DIR, \"usgs_locations.parquet\")\n",
    "METRICS_CSV_FILEPATH = Path(TEEHR_EVALUATION_DIR, \"metrics.csv\")"
   ]
  },
  {
   "cell_type": "markdown",
   "id": "dbefc48c",
   "metadata": {},
   "source": [
    "#### Display the specified NGIAB output directory"
   ]
  },
  {
   "cell_type": "code",
   "execution_count": null,
   "id": "6f3504c5",
   "metadata": {},
   "outputs": [],
   "source": [
    "MOUNTED_DATA_DIR = Path(os.environ.get(\"NGIAB_OUTPUT_DIR\"))\n",
    "configuration_name = teehr_ngiab.sanitize_string(MOUNTED_DATA_DIR.name)\n",
    "print(f\"Evaluating NGIAB output in: {MOUNTED_DATA_DIR}\")\n",
    "print(f\"configuration_name = '{configuration_name}'\")"
   ]
  },
  {
   "cell_type": "markdown",
   "id": "f6051687",
   "metadata": {},
   "source": [
    "#### Collect the run options from runTeehr.sh"
   ]
  },
  {
   "cell_type": "code",
   "execution_count": null,
   "id": "adbb6ac8",
   "metadata": {},
   "outputs": [],
   "source": [
    "print(\"Collecting the run options...\")\n",
    "run_options = os.environ.get(\"RUN_OPTIONS\")\n",
    "if run_options:\n",
    "    run_options = [int(opt) for opt in run_options.split(\",\")]\n",
    "    print(f\"Run options: {run_options}\")"
   ]
  },
  {
   "cell_type": "markdown",
   "id": "cf45d242-f416-4a24-a23d-9e9345bf7822",
   "metadata": {},
   "source": [
    "#### Option 1. Build the TEEHR Evaluation"
   ]
  },
  {
   "cell_type": "code",
   "execution_count": null,
   "id": "afeb8ffb",
   "metadata": {},
   "outputs": [],
   "source": [
    "if 1 in run_options:\n",
    "    print(\"Running option 1: Creating the TEEHR Evaluation\")\n",
    "    teehr_ngiab.create_teehr_evaluation(\n",
    "        teehr_evaluation_dir=TEEHR_EVALUATION_DIR,\n",
    "        ngiab_output_dir=NGIAB_OUTPUT_DIR,\n",
    "        crosswalk_table_filepath=CROSSWALK_TABLE,\n",
    "        locations_filepath=LOCATIONS,\n",
    "        temp_dir=TEMP_DIR,\n",
    "        configuration_name=configuration_name,\n",
    "    )"
   ]
  },
  {
   "cell_type": "markdown",
   "id": "ae6e342b-5b9e-44ad-8a28-48b87186d088",
   "metadata": {},
   "source": [
    "#### Option 2. Calculate metrics"
   ]
  },
  {
   "cell_type": "code",
   "execution_count": null,
   "id": "6d8dac0b",
   "metadata": {},
   "outputs": [],
   "source": [
    "if 2 in run_options:\n",
    "    print(\"Running option 2: Calculating performance metrics\")\n",
    "    teehr_ngiab.calculate_metrics(\n",
    "        teehr_evaluation_dir=TEEHR_EVALUATION_DIR,\n",
    "        metrics_csv_filepath=METRICS_CSV_FILEPATH\n",
    "    )\n",
    "    # Display the calculated metrics.\n",
    "    metrics_df = pd.read_csv(METRICS_CSV_FILEPATH)\n",
    "    display(metrics_df)"
   ]
  }
 ],
 "metadata": {
  "kernelspec": {
   "display_name": "Python 3 (ipykernel)",
   "language": "python",
   "name": "python3"
  },
  "language_info": {
   "codemirror_mode": {
    "name": "ipython",
    "version": 3
   },
   "file_extension": ".py",
   "mimetype": "text/x-python",
   "name": "python",
   "nbconvert_exporter": "python",
   "pygments_lexer": "ipython3",
   "version": "3.11.11"
  }
 },
 "nbformat": 4,
 "nbformat_minor": 5
}
