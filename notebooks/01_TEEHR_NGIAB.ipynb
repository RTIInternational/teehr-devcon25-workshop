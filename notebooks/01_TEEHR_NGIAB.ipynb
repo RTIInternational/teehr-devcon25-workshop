{
 "cells": [
  {
   "cell_type": "markdown",
   "id": "376e0ac1",
   "metadata": {},
   "source": [
    "## Why TEEHR?\n",
    "### Framework for standardized data and tooling for exploratory hydrologic evaluations at scale.\n",
    "```\n",
    "Tools for Exploratory Evaluation in Hydrologic Research TEEHR (pronounced \"tier\") is an opinionated Python tool set for loading, storing, and processing, high-volume hydrologic simulation data for the purpose of exploring and evaluating the datasets to assess their skill and performance.\n",
    "```\n",
    "---"
   ]
  },
  {
   "cell_type": "markdown",
   "id": "5a1621a1",
   "metadata": {},
   "source": [
    "#### TEEHR Documentation\n",
    "https://rtiinternational.github.io/teehr/getting_started/index.html#getting-started\n",
    "\n",
    "---"
   ]
  },
  {
   "cell_type": "code",
   "execution_count": null,
   "id": "4ff6694c",
   "metadata": {
    "execution": {
     "iopub.execute_input": "2025-05-09T21:07:02.790099Z",
     "iopub.status.busy": "2025-05-09T21:07:02.789925Z",
     "iopub.status.idle": "2025-05-09T21:07:14.921122Z",
     "shell.execute_reply": "2025-05-09T21:07:14.920133Z"
    }
   },
   "outputs": [],
   "source": [
    "from pathlib import Path\n",
    "import os\n",
    "\n",
    "import teehr\n",
    "import pandas as pd\n",
    "\n",
    "from utils import teehr_utils\n",
    "\n",
    "# Enable use of accessor\n",
    "from bokeh.io import output_notebook\n",
    "output_notebook()"
   ]
  },
  {
   "cell_type": "code",
   "execution_count": null,
   "id": "e744540d",
   "metadata": {
    "execution": {
     "iopub.execute_input": "2025-05-09T21:07:14.923403Z",
     "iopub.status.busy": "2025-05-09T21:07:14.922974Z",
     "iopub.status.idle": "2025-05-09T21:07:14.928651Z",
     "shell.execute_reply": "2025-05-09T21:07:14.928116Z"
    }
   },
   "outputs": [],
   "source": [
    "NGIAB_OUTPUT_DIR = Path(\"/app/data\")\n",
    "\n",
    "TEEHR_EVALUATION_DIR = Path(\"/app/data/teehr\")\n",
    "\n",
    "TEMP_DIR = Path(TEEHR_EVALUATION_DIR, \"cache\")\n",
    "\n",
    "CROSSWALK_TABLE = Path(TEMP_DIR, \"xwalk_table.parquet\")\n",
    "LOCATIONS = Path(TEMP_DIR, \"usgs_locations.parquet\")\n",
    "METRICS_CSV_FILEPATH = Path(TEEHR_EVALUATION_DIR, \"metrics.csv\")"
   ]
  },
  {
   "cell_type": "code",
   "execution_count": null,
   "id": "6f3504c5",
   "metadata": {
    "execution": {
     "iopub.execute_input": "2025-05-09T21:07:14.930606Z",
     "iopub.status.busy": "2025-05-09T21:07:14.930369Z",
     "iopub.status.idle": "2025-05-09T21:07:14.934549Z",
     "shell.execute_reply": "2025-05-09T21:07:14.934002Z"
    }
   },
   "outputs": [],
   "source": [
    "MOUNTED_DATA_DIR = Path(os.environ.get(\"NGIAB_OUTPUT_DIR\"))\n",
    "configuration_name = teehr_utils.sanitize_string(MOUNTED_DATA_DIR.name)\n",
    "print(f\"Evaluating NGIAB output in: {MOUNTED_DATA_DIR}\")"
   ]
  },
  {
   "cell_type": "code",
   "execution_count": null,
   "id": "adbb6ac8",
   "metadata": {
    "execution": {
     "iopub.execute_input": "2025-05-09T21:07:14.936362Z",
     "iopub.status.busy": "2025-05-09T21:07:14.936204Z",
     "iopub.status.idle": "2025-05-09T21:07:14.940407Z",
     "shell.execute_reply": "2025-05-09T21:07:14.939883Z"
    }
   },
   "outputs": [],
   "source": [
    "run_options = os.environ.get(\"RUN_OPTIONS\")\n",
    "if run_options:\n",
    "    run_options = [int(opt) for opt in run_options.split(\",\")]\n",
    "    print(f\"Run options: {run_options}\")"
   ]
  },
  {
   "cell_type": "code",
   "execution_count": null,
   "id": "afeb8ffb",
   "metadata": {
    "execution": {
     "iopub.execute_input": "2025-05-09T21:07:14.942203Z",
     "iopub.status.busy": "2025-05-09T21:07:14.942037Z",
     "iopub.status.idle": "2025-05-09T21:07:14.949931Z",
     "shell.execute_reply": "2025-05-09T21:07:14.949242Z"
    }
   },
   "outputs": [],
   "source": [
    "if 1 in run_options:\n",
    "    print(\"Running option 1: Creating the TEEHR Evaluation\")\n",
    "    teehr_utils.create_teehr_evaluation(\n",
    "        teehr_evaluation_dir=TEEHR_EVALUATION_DIR,\n",
    "        ngiab_output_dir=NGIAB_OUTPUT_DIR,\n",
    "        crosswalk_table_filepath=CROSSWALK_TABLE,\n",
    "        locations_filepath=LOCATIONS,\n",
    "        temp_dir=TEMP_DIR,\n",
    "        configuration_name=configuration_name,\n",
    "    )"
   ]
  },
  {
   "cell_type": "code",
   "execution_count": null,
   "id": "6d8dac0b",
   "metadata": {
    "execution": {
     "iopub.execute_input": "2025-05-09T21:07:14.951691Z",
     "iopub.status.busy": "2025-05-09T21:07:14.951439Z",
     "iopub.status.idle": "2025-05-09T21:07:36.923453Z",
     "shell.execute_reply": "2025-05-09T21:07:36.922646Z"
    }
   },
   "outputs": [],
   "source": [
    "if 2 in run_options:\n",
    "    print(\"Running option 2: Calculating performance metrics\")\n",
    "    teehr_utils.calculate_metrics(\n",
    "        teehr_evaluation_dir=TEEHR_EVALUATION_DIR,\n",
    "        metrics_csv_filepath=METRICS_CSV_FILEPATH\n",
    "    )"
   ]
  },
  {
   "cell_type": "code",
   "execution_count": null,
   "id": "61925cac-f4bc-431a-8ca7-6d08772308fd",
   "metadata": {
    "execution": {
     "iopub.execute_input": "2025-05-09T21:07:36.926085Z",
     "iopub.status.busy": "2025-05-09T21:07:36.925859Z",
     "iopub.status.idle": "2025-05-09T21:07:36.943504Z",
     "shell.execute_reply": "2025-05-09T21:07:36.942850Z"
    }
   },
   "outputs": [],
   "source": [
    "metrics_df = pd.read_csv(METRICS_CSV_FILEPATH)\n",
    "metrics_df"
   ]
  },
  {
   "cell_type": "markdown",
   "id": "11c5fa89",
   "metadata": {},
   "source": [
    "#### Explore"
   ]
  },
  {
   "cell_type": "code",
   "execution_count": null,
   "id": "80ea67a9",
   "metadata": {
    "execution": {
     "iopub.execute_input": "2025-05-09T21:07:36.945427Z",
     "iopub.status.busy": "2025-05-09T21:07:36.945238Z",
     "iopub.status.idle": "2025-05-09T21:07:36.958092Z",
     "shell.execute_reply": "2025-05-09T21:07:36.957319Z"
    }
   },
   "outputs": [],
   "source": [
    "ev = teehr.Evaluation(dir_path=TEEHR_EVALUATION_DIR)"
   ]
  },
  {
   "cell_type": "code",
   "execution_count": null,
   "id": "a422c486-ccff-4c7d-bff1-fc610a0cf387",
   "metadata": {
    "execution": {
     "iopub.execute_input": "2025-05-09T21:07:36.960269Z",
     "iopub.status.busy": "2025-05-09T21:07:36.960087Z",
     "iopub.status.idle": "2025-05-09T21:07:37.920134Z",
     "shell.execute_reply": "2025-05-09T21:07:37.919351Z"
    }
   },
   "outputs": [],
   "source": [
    "gdf = ev.locations.to_geopandas()\n",
    "gdf.teehr.locations_map()"
   ]
  },
  {
   "cell_type": "code",
   "execution_count": null,
   "id": "12871de6",
   "metadata": {
    "execution": {
     "iopub.execute_input": "2025-05-09T21:07:37.922558Z",
     "iopub.status.busy": "2025-05-09T21:07:37.922201Z",
     "iopub.status.idle": "2025-05-09T21:07:39.119868Z",
     "shell.execute_reply": "2025-05-09T21:07:39.118998Z"
    }
   },
   "outputs": [],
   "source": [
    "ev.primary_timeseries.to_sdf().show()"
   ]
  },
  {
   "cell_type": "code",
   "execution_count": null,
   "id": "de4e64b1",
   "metadata": {
    "execution": {
     "iopub.execute_input": "2025-05-09T21:07:39.124689Z",
     "iopub.status.busy": "2025-05-09T21:07:39.124408Z",
     "iopub.status.idle": "2025-05-09T21:07:39.681187Z",
     "shell.execute_reply": "2025-05-09T21:07:39.680859Z"
    }
   },
   "outputs": [],
   "source": [
    "ev.secondary_timeseries.to_sdf().show()"
   ]
  },
  {
   "cell_type": "code",
   "execution_count": null,
   "id": "830d4aa7-3b8e-4e46-bf44-c6e7d90f0f44",
   "metadata": {
    "execution": {
     "iopub.execute_input": "2025-05-09T21:07:39.683906Z",
     "iopub.status.busy": "2025-05-09T21:07:39.683554Z",
     "iopub.status.idle": "2025-05-09T21:07:41.219102Z",
     "shell.execute_reply": "2025-05-09T21:07:41.218269Z"
    }
   },
   "outputs": [],
   "source": [
    "ev.secondary_timeseries.distinct_values(\"configuration_name\")"
   ]
  },
  {
   "cell_type": "code",
   "execution_count": null,
   "id": "ffcbae27",
   "metadata": {
    "execution": {
     "iopub.execute_input": "2025-05-09T21:07:41.221337Z",
     "iopub.status.busy": "2025-05-09T21:07:41.221159Z",
     "iopub.status.idle": "2025-05-09T21:07:41.660136Z",
     "shell.execute_reply": "2025-05-09T21:07:41.659223Z"
    }
   },
   "outputs": [],
   "source": [
    "ev.joined_timeseries.to_sdf().show()"
   ]
  }
 ],
 "metadata": {
  "kernelspec": {
   "display_name": "Python 3 (ipykernel)",
   "language": "python",
   "name": "python3"
  },
  "language_info": {
   "codemirror_mode": {
    "name": "ipython",
    "version": 3
   },
   "file_extension": ".py",
   "mimetype": "text/x-python",
   "name": "python",
   "nbconvert_exporter": "python",
   "pygments_lexer": "ipython3",
   "version": "3.11.11"
  }
 },
 "nbformat": 4,
 "nbformat_minor": 5
}
