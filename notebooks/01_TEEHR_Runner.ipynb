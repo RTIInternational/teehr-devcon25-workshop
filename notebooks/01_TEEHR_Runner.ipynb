{
 "cells": [
  {
   "cell_type": "markdown",
   "id": "5a1621a1",
   "metadata": {
    "papermill": {
     "duration": 0.001455,
     "end_time": "2025-05-22T15:23:54.958598",
     "exception": false,
     "start_time": "2025-05-22T15:23:54.957143",
     "status": "completed"
    },
    "tags": []
   },
   "source": [
    "## TEEHR Runner Notebook\n",
    "\n",
    "---"
   ]
  },
  {
   "cell_type": "code",
   "execution_count": null,
   "id": "4ff6694c",
   "metadata": {
    "execution": {
     "iopub.execute_input": "2025-05-22T15:23:54.964185Z",
     "iopub.status.busy": "2025-05-22T15:23:54.963997Z",
     "iopub.status.idle": "2025-05-22T15:24:09.304187Z",
     "shell.execute_reply": "2025-05-22T15:24:09.303243Z"
    },
    "papermill": {
     "duration": 14.344282,
     "end_time": "2025-05-22T15:24:09.305803",
     "exception": false,
     "start_time": "2025-05-22T15:23:54.961521",
     "status": "completed"
    },
    "tags": []
   },
   "outputs": [],
   "source": [
    "print(\"Importing dependencies...\")\n",
    "from pathlib import Path\n",
    "import os\n",
    "\n",
    "import pandas as pd\n",
    "\n",
    "from utils import teehr_ngiab"
   ]
  },
  {
   "cell_type": "markdown",
   "id": "a6ea1de6-fc46-48ac-8158-4eac4e9ac70c",
   "metadata": {
    "papermill": {
     "duration": 0.001387,
     "end_time": "2025-05-22T15:24:09.308784",
     "exception": false,
     "start_time": "2025-05-22T15:24:09.307397",
     "status": "completed"
    },
    "tags": []
   },
   "source": [
    "#### Setting paths"
   ]
  },
  {
   "cell_type": "code",
   "execution_count": null,
   "id": "e744540d",
   "metadata": {
    "execution": {
     "iopub.execute_input": "2025-05-22T15:24:09.312810Z",
     "iopub.status.busy": "2025-05-22T15:24:09.312470Z",
     "iopub.status.idle": "2025-05-22T15:24:09.317929Z",
     "shell.execute_reply": "2025-05-22T15:24:09.316499Z"
    },
    "papermill": {
     "duration": 0.009903,
     "end_time": "2025-05-22T15:24:09.320023",
     "exception": false,
     "start_time": "2025-05-22T15:24:09.310120",
     "status": "completed"
    },
    "tags": []
   },
   "outputs": [],
   "source": [
    "print(\"Setting paths...\")\n",
    "NGIAB_OUTPUT_DIR = Path(\"/app/data\")\n",
    "\n",
    "TEEHR_EVALUATION_DIR = Path(\"/app/data/teehr\")\n",
    "\n",
    "TEMP_DIR = Path(TEEHR_EVALUATION_DIR, \"cache\")\n",
    "\n",
    "CROSSWALK_TABLE = Path(TEMP_DIR, \"xwalk_table.parquet\")\n",
    "LOCATIONS = Path(TEMP_DIR, \"usgs_locations.parquet\")\n",
    "METRICS_CSV_FILEPATH = Path(TEEHR_EVALUATION_DIR, \"metrics.csv\")"
   ]
  },
  {
   "cell_type": "markdown",
   "id": "dbefc48c",
   "metadata": {
    "papermill": {
     "duration": 0.002302,
     "end_time": "2025-05-22T15:24:09.323523",
     "exception": false,
     "start_time": "2025-05-22T15:24:09.321221",
     "status": "completed"
    },
    "tags": []
   },
   "source": [
    "#### Display the specified NGIAB output directory"
   ]
  },
  {
   "cell_type": "code",
   "execution_count": null,
   "id": "6f3504c5",
   "metadata": {
    "execution": {
     "iopub.execute_input": "2025-05-22T15:24:09.338638Z",
     "iopub.status.busy": "2025-05-22T15:24:09.338480Z",
     "iopub.status.idle": "2025-05-22T15:24:09.349097Z",
     "shell.execute_reply": "2025-05-22T15:24:09.346098Z"
    },
    "papermill": {
     "duration": 0.023891,
     "end_time": "2025-05-22T15:24:09.351170",
     "exception": false,
     "start_time": "2025-05-22T15:24:09.327279",
     "status": "completed"
    },
    "tags": []
   },
   "outputs": [],
   "source": [
    "MOUNTED_DATA_DIR = Path(os.environ.get(\"NGIAB_OUTPUT_DIR\"))\n",
    "configuration_name = teehr_ngiab.sanitize_string(MOUNTED_DATA_DIR.name)\n",
    "print(f\"Evaluating NGIAB output in: {MOUNTED_DATA_DIR}\")\n",
    "print(f\"configuration_name = '{configuration_name}'\")"
   ]
  },
  {
   "cell_type": "markdown",
   "id": "f6051687",
   "metadata": {
    "papermill": {
     "duration": 0.014719,
     "end_time": "2025-05-22T15:24:09.367766",
     "exception": false,
     "start_time": "2025-05-22T15:24:09.353047",
     "status": "completed"
    },
    "tags": []
   },
   "source": [
    "#### Collect the run options from runTeehr.sh"
   ]
  },
  {
   "cell_type": "code",
   "execution_count": null,
   "id": "adbb6ac8",
   "metadata": {
    "execution": {
     "iopub.execute_input": "2025-05-22T15:24:09.382879Z",
     "iopub.status.busy": "2025-05-22T15:24:09.382126Z",
     "iopub.status.idle": "2025-05-22T15:24:09.390577Z",
     "shell.execute_reply": "2025-05-22T15:24:09.387418Z"
    },
    "papermill": {
     "duration": 0.021378,
     "end_time": "2025-05-22T15:24:09.392763",
     "exception": false,
     "start_time": "2025-05-22T15:24:09.371385",
     "status": "completed"
    },
    "tags": []
   },
   "outputs": [],
   "source": [
    "print(\"Collecting the run options...\")\n",
    "run_options = os.environ.get(\"RUN_OPTIONS\")\n",
    "if run_options:\n",
    "    run_options = [int(opt) for opt in run_options.split(\",\")]\n",
    "    print(f\"Run options: {run_options}\")"
   ]
  },
  {
   "cell_type": "markdown",
   "id": "cf45d242-f416-4a24-a23d-9e9345bf7822",
   "metadata": {
    "papermill": {
     "duration": 0.001616,
     "end_time": "2025-05-22T15:24:09.397138",
     "exception": false,
     "start_time": "2025-05-22T15:24:09.395522",
     "status": "completed"
    },
    "tags": []
   },
   "source": [
    "#### Option 1. Build the TEEHR Evaluation"
   ]
  },
  {
   "cell_type": "code",
   "execution_count": null,
   "id": "afeb8ffb",
   "metadata": {
    "execution": {
     "iopub.execute_input": "2025-05-22T15:24:09.402017Z",
     "iopub.status.busy": "2025-05-22T15:24:09.401871Z",
     "iopub.status.idle": "2025-05-22T15:24:09.415476Z",
     "shell.execute_reply": "2025-05-22T15:24:09.406890Z"
    },
    "papermill": {
     "duration": 0.034008,
     "end_time": "2025-05-22T15:24:09.433163",
     "exception": false,
     "start_time": "2025-05-22T15:24:09.399155",
     "status": "completed"
    },
    "tags": []
   },
   "outputs": [],
   "source": [
    "if 1 in run_options:\n",
    "    print(\"Running option 1: Creating the TEEHR Evaluation\")\n",
    "    teehr_ngiab.create_teehr_evaluation(\n",
    "        teehr_evaluation_dir=TEEHR_EVALUATION_DIR,\n",
    "        ngiab_output_dir=NGIAB_OUTPUT_DIR,\n",
    "        crosswalk_table_filepath=CROSSWALK_TABLE,\n",
    "        locations_filepath=LOCATIONS,\n",
    "        temp_dir=TEMP_DIR,\n",
    "        configuration_name=configuration_name,\n",
    "    )"
   ]
  },
  {
   "cell_type": "markdown",
   "id": "ae6e342b-5b9e-44ad-8a28-48b87186d088",
   "metadata": {
    "papermill": {
     "duration": 0.001325,
     "end_time": "2025-05-22T15:24:09.436630",
     "exception": false,
     "start_time": "2025-05-22T15:24:09.435305",
     "status": "completed"
    },
    "tags": []
   },
   "source": [
    "#### Option 2. Calculate metrics"
   ]
  },
  {
   "cell_type": "code",
   "execution_count": null,
   "id": "6d8dac0b",
   "metadata": {
    "execution": {
     "iopub.execute_input": "2025-05-22T15:24:09.442313Z",
     "iopub.status.busy": "2025-05-22T15:24:09.441903Z",
     "iopub.status.idle": "2025-05-22T15:24:44.700585Z",
     "shell.execute_reply": "2025-05-22T15:24:44.668294Z"
    },
    "papermill": {
     "duration": 35.351341,
     "end_time": "2025-05-22T15:24:44.790134",
     "exception": false,
     "start_time": "2025-05-22T15:24:09.438793",
     "status": "completed"
    },
    "tags": []
   },
   "outputs": [],
   "source": [
    "if 2 in run_options:\n",
    "    print(\"Running option 2: Calculating performance metrics\")\n",
    "    teehr_ngiab.calculate_metrics(\n",
    "        teehr_evaluation_dir=TEEHR_EVALUATION_DIR,\n",
    "        metrics_csv_filepath=METRICS_CSV_FILEPATH\n",
    "    )\n",
    "    # Display the calculated metrics.\n",
    "    metrics_df = pd.read_csv(METRICS_CSV_FILEPATH)\n",
    "    display(metrics_df)"
   ]
  }
 ],
 "metadata": {
  "kernelspec": {
   "display_name": "Python 3 (ipykernel)",
   "language": "python",
   "name": "python3"
  },
  "language_info": {
   "codemirror_mode": {
    "name": "ipython",
    "version": 3
   },
   "file_extension": ".py",
   "mimetype": "text/x-python",
   "name": "python",
   "nbconvert_exporter": "python",
   "pygments_lexer": "ipython3",
   "version": "3.11.11"
  },
  "papermill": {
   "default_parameters": {},
   "duration": 53.82833,
   "end_time": "2025-05-22T15:24:47.563555",
   "environment_variables": {},
   "exception": null,
   "input_path": "/app/notebooks/01_TEEHR_Runner.ipynb",
   "output_path": "/app/notebooks/01_TEEHR_Runner.ipynb",
   "parameters": {},
   "start_time": "2025-05-22T15:23:53.735225",
   "version": "2.6.0"
  }
 },
 "nbformat": 4,
 "nbformat_minor": 5
}
