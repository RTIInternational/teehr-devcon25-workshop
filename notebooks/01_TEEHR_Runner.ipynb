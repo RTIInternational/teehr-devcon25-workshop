{
 "cells": [
  {
   "cell_type": "markdown",
   "id": "5a1621a1",
   "metadata": {
    "papermill": {
     "duration": 0.001385,
     "end_time": "2025-05-24T10:09:54.336737",
     "exception": false,
     "start_time": "2025-05-24T10:09:54.335352",
     "status": "completed"
    },
    "tags": []
   },
   "source": [
    "## TEEHR Runner Notebook\n",
    "\n",
    "---"
   ]
  },
  {
   "cell_type": "code",
   "execution_count": 1,
   "id": "4ff6694c",
   "metadata": {
    "execution": {
     "iopub.execute_input": "2025-05-24T10:09:54.342755Z",
     "iopub.status.busy": "2025-05-24T10:09:54.342562Z",
     "iopub.status.idle": "2025-05-24T10:09:58.527999Z",
     "shell.execute_reply": "2025-05-24T10:09:58.527374Z"
    },
    "papermill": {
     "duration": 4.189561,
     "end_time": "2025-05-24T10:09:58.529164",
     "exception": false,
     "start_time": "2025-05-24T10:09:54.339603",
     "status": "completed"
    },
    "tags": []
   },
   "outputs": [
    {
     "name": "stdout",
     "output_type": "stream",
     "text": [
      "Importing dependencies...\n"
     ]
    }
   ],
   "source": [
    "print(\"Importing dependencies...\")\n",
    "from pathlib import Path\n",
    "import os\n",
    "\n",
    "import pandas as pd\n",
    "\n",
    "from utils import teehr_ngiab"
   ]
  },
  {
   "cell_type": "markdown",
   "id": "a6ea1de6-fc46-48ac-8158-4eac4e9ac70c",
   "metadata": {
    "papermill": {
     "duration": 0.001248,
     "end_time": "2025-05-24T10:09:58.532135",
     "exception": false,
     "start_time": "2025-05-24T10:09:58.530887",
     "status": "completed"
    },
    "tags": []
   },
   "source": [
    "#### Setting paths"
   ]
  },
  {
   "cell_type": "code",
   "execution_count": 2,
   "id": "e744540d",
   "metadata": {
    "execution": {
     "iopub.execute_input": "2025-05-24T10:09:58.536895Z",
     "iopub.status.busy": "2025-05-24T10:09:58.536423Z",
     "iopub.status.idle": "2025-05-24T10:09:58.541005Z",
     "shell.execute_reply": "2025-05-24T10:09:58.540122Z"
    },
    "papermill": {
     "duration": 0.008339,
     "end_time": "2025-05-24T10:09:58.542289",
     "exception": false,
     "start_time": "2025-05-24T10:09:58.533950",
     "status": "completed"
    },
    "tags": []
   },
   "outputs": [
    {
     "name": "stdout",
     "output_type": "stream",
     "text": [
      "Setting paths...\n"
     ]
    }
   ],
   "source": [
    "print(\"Setting paths...\")\n",
    "NGIAB_OUTPUT_DIR = Path(\"/app/data\")\n",
    "\n",
    "TEEHR_EVALUATION_DIR = Path(\"/app/data/teehr\")\n",
    "\n",
    "TEMP_DIR = Path(TEEHR_EVALUATION_DIR, \"cache\")\n",
    "\n",
    "CROSSWALK_TABLE = Path(TEMP_DIR, \"xwalk_table.parquet\")\n",
    "LOCATIONS = Path(TEMP_DIR, \"usgs_locations.parquet\")\n",
    "METRICS_CSV_FILEPATH = Path(TEEHR_EVALUATION_DIR, \"metrics.csv\")"
   ]
  },
  {
   "cell_type": "markdown",
   "id": "dbefc48c",
   "metadata": {
    "papermill": {
     "duration": 0.001332,
     "end_time": "2025-05-24T10:09:58.545102",
     "exception": false,
     "start_time": "2025-05-24T10:09:58.543770",
     "status": "completed"
    },
    "tags": []
   },
   "source": [
    "#### Display the specified NGIAB output directory"
   ]
  },
  {
   "cell_type": "code",
   "execution_count": 3,
   "id": "6f3504c5",
   "metadata": {
    "execution": {
     "iopub.execute_input": "2025-05-24T10:09:58.551109Z",
     "iopub.status.busy": "2025-05-24T10:09:58.550906Z",
     "iopub.status.idle": "2025-05-24T10:09:58.575296Z",
     "shell.execute_reply": "2025-05-24T10:09:58.562836Z"
    },
    "papermill": {
     "duration": 0.02925,
     "end_time": "2025-05-24T10:09:58.577667",
     "exception": false,
     "start_time": "2025-05-24T10:09:58.548417",
     "status": "completed"
    },
    "tags": []
   },
   "outputs": [
    {
     "name": "stdout",
     "output_type": "stream",
     "text": [
      "Evaluating NGIAB output in: /mnt/data/ciroh/teehr/devcon2025/ngiab_sample_output/cat-491334-partial\n",
      "configuration_name = 'cat_491334_partial'\n"
     ]
    }
   ],
   "source": [
    "MOUNTED_DATA_DIR = Path(os.environ.get(\"NGIAB_OUTPUT_DIR\"))\n",
    "configuration_name = teehr_ngiab.sanitize_string(MOUNTED_DATA_DIR.name)\n",
    "print(f\"Evaluating NGIAB output in: {MOUNTED_DATA_DIR}\")\n",
    "print(f\"configuration_name = '{configuration_name}'\")"
   ]
  },
  {
   "cell_type": "markdown",
   "id": "f6051687",
   "metadata": {
    "papermill": {
     "duration": 0.001689,
     "end_time": "2025-05-24T10:09:58.581789",
     "exception": false,
     "start_time": "2025-05-24T10:09:58.580100",
     "status": "completed"
    },
    "tags": []
   },
   "source": [
    "#### Collect the run options from runTeehr.sh"
   ]
  },
  {
   "cell_type": "code",
   "execution_count": 4,
   "id": "adbb6ac8",
   "metadata": {
    "execution": {
     "iopub.execute_input": "2025-05-24T10:09:58.586768Z",
     "iopub.status.busy": "2025-05-24T10:09:58.586561Z",
     "iopub.status.idle": "2025-05-24T10:09:58.592293Z",
     "shell.execute_reply": "2025-05-24T10:09:58.590799Z"
    },
    "papermill": {
     "duration": 0.010816,
     "end_time": "2025-05-24T10:09:58.594387",
     "exception": false,
     "start_time": "2025-05-24T10:09:58.583571",
     "status": "completed"
    },
    "tags": []
   },
   "outputs": [
    {
     "name": "stdout",
     "output_type": "stream",
     "text": [
      "Collecting the run options...\n",
      "Run options: [2, 3]\n"
     ]
    }
   ],
   "source": [
    "print(\"Collecting the run options...\")\n",
    "run_options = os.environ.get(\"RUN_OPTIONS\")\n",
    "if run_options:\n",
    "    run_options = [int(opt) for opt in run_options.split(\",\")]\n",
    "    print(f\"Run options: {run_options}\")"
   ]
  },
  {
   "cell_type": "markdown",
   "id": "cf45d242-f416-4a24-a23d-9e9345bf7822",
   "metadata": {
    "papermill": {
     "duration": 0.028448,
     "end_time": "2025-05-24T10:09:58.625309",
     "exception": false,
     "start_time": "2025-05-24T10:09:58.596861",
     "status": "completed"
    },
    "tags": []
   },
   "source": [
    "#### Option 1. Build the TEEHR Evaluation"
   ]
  },
  {
   "cell_type": "code",
   "execution_count": 5,
   "id": "afeb8ffb",
   "metadata": {
    "execution": {
     "iopub.execute_input": "2025-05-24T10:09:58.720430Z",
     "iopub.status.busy": "2025-05-24T10:09:58.719078Z",
     "iopub.status.idle": "2025-05-24T10:09:58.734826Z",
     "shell.execute_reply": "2025-05-24T10:09:58.723628Z"
    },
    "papermill": {
     "duration": 0.078865,
     "end_time": "2025-05-24T10:09:58.736255",
     "exception": false,
     "start_time": "2025-05-24T10:09:58.657390",
     "status": "completed"
    },
    "tags": []
   },
   "outputs": [],
   "source": [
    "if 1 in run_options:\n",
    "    print(\"Running option 1: Creating the TEEHR Evaluation\")\n",
    "    teehr_ngiab.create_teehr_evaluation(\n",
    "        teehr_evaluation_dir=TEEHR_EVALUATION_DIR,\n",
    "        ngiab_output_dir=NGIAB_OUTPUT_DIR,\n",
    "        crosswalk_table_filepath=CROSSWALK_TABLE,\n",
    "        locations_filepath=LOCATIONS,\n",
    "        temp_dir=TEMP_DIR,\n",
    "        configuration_name=configuration_name,\n",
    "    )"
   ]
  },
  {
   "cell_type": "markdown",
   "id": "ae6e342b-5b9e-44ad-8a28-48b87186d088",
   "metadata": {
    "papermill": {
     "duration": 0.012437,
     "end_time": "2025-05-24T10:09:58.751325",
     "exception": false,
     "start_time": "2025-05-24T10:09:58.738888",
     "status": "completed"
    },
    "tags": []
   },
   "source": [
    "#### Option 2. Calculate metrics"
   ]
  },
  {
   "cell_type": "code",
   "execution_count": 6,
   "id": "6d8dac0b",
   "metadata": {
    "execution": {
     "iopub.execute_input": "2025-05-24T10:09:58.771740Z",
     "iopub.status.busy": "2025-05-24T10:09:58.771446Z",
     "iopub.status.idle": "2025-05-24T10:10:16.520790Z",
     "shell.execute_reply": "2025-05-24T10:10:16.512288Z"
    },
    "papermill": {
     "duration": 17.764573,
     "end_time": "2025-05-24T10:10:16.527911",
     "exception": false,
     "start_time": "2025-05-24T10:09:58.763338",
     "status": "completed"
    },
    "tags": []
   },
   "outputs": [
    {
     "name": "stdout",
     "output_type": "stream",
     "text": [
      "Running option 2: Calculating performance metrics\n"
     ]
    },
    {
     "name": "stderr",
     "output_type": "stream",
     "text": [
      "Setting default log level to \"WARN\".\n",
      "To adjust logging level use sc.setLogLevel(newLevel). For SparkR, use setLogLevel(newLevel).\n"
     ]
    },
    {
     "name": "stderr",
     "output_type": "stream",
     "text": [
      "25/05/24 10:10:02 WARN NativeCodeLoader: Unable to load native-hadoop library for your platform... using builtin-java classes where applicable\n"
     ]
    },
    {
     "name": "stderr",
     "output_type": "stream",
     "text": [
      "\r",
      "[Stage 0:>                                                          (0 + 1) / 1]\r"
     ]
    },
    {
     "name": "stderr",
     "output_type": "stream",
     "text": [
      "\r",
      "                                                                                \r"
     ]
    },
    {
     "name": "stderr",
     "output_type": "stream",
     "text": [
      "\r",
      "[Stage 1:>                                                          (0 + 2) / 2]\r"
     ]
    },
    {
     "name": "stderr",
     "output_type": "stream",
     "text": [
      "\r",
      "[Stage 1:=============================>                             (1 + 1) / 2]\r",
      "\r",
      "[Stage 1:===========================================================(2 + 0) / 2]\r"
     ]
    },
    {
     "name": "stderr",
     "output_type": "stream",
     "text": [
      "\r",
      "[Stage 3:>                                                          (0 + 1) / 1]\r"
     ]
    },
    {
     "name": "stderr",
     "output_type": "stream",
     "text": [
      "\r",
      "                                                                                \r"
     ]
    },
    {
     "data": {
      "text/html": [
       "<div>\n",
       "<style scoped>\n",
       "    .dataframe tbody tr th:only-of-type {\n",
       "        vertical-align: middle;\n",
       "    }\n",
       "\n",
       "    .dataframe tbody tr th {\n",
       "        vertical-align: top;\n",
       "    }\n",
       "\n",
       "    .dataframe thead th {\n",
       "        text-align: right;\n",
       "    }\n",
       "</style>\n",
       "<table border=\"1\" class=\"dataframe\">\n",
       "  <thead>\n",
       "    <tr style=\"text-align: right;\">\n",
       "      <th></th>\n",
       "      <th>primary_location_id</th>\n",
       "      <th>configuration_name</th>\n",
       "      <th>kling_gupta_efficiency</th>\n",
       "      <th>nash_sutcliffe_efficiency</th>\n",
       "      <th>relative_bias</th>\n",
       "      <th>root_mean_standard_deviation_ratio</th>\n",
       "    </tr>\n",
       "  </thead>\n",
       "  <tbody>\n",
       "    <tr>\n",
       "      <th>0</th>\n",
       "      <td>usgs-02423130</td>\n",
       "      <td>cat_491334_partial</td>\n",
       "      <td>0.080198</td>\n",
       "      <td>-0.454538</td>\n",
       "      <td>-0.475969</td>\n",
       "      <td>1.206042</td>\n",
       "    </tr>\n",
       "    <tr>\n",
       "      <th>1</th>\n",
       "      <td>usgs-02423130</td>\n",
       "      <td>nwm30_retrospective</td>\n",
       "      <td>0.175289</td>\n",
       "      <td>0.395477</td>\n",
       "      <td>-0.555731</td>\n",
       "      <td>0.777511</td>\n",
       "    </tr>\n",
       "    <tr>\n",
       "      <th>2</th>\n",
       "      <td>usgs-02423380</td>\n",
       "      <td>cat_491334_partial</td>\n",
       "      <td>-0.517943</td>\n",
       "      <td>-2.972862</td>\n",
       "      <td>0.463203</td>\n",
       "      <td>1.993204</td>\n",
       "    </tr>\n",
       "    <tr>\n",
       "      <th>3</th>\n",
       "      <td>usgs-02423380</td>\n",
       "      <td>nwm30_retrospective</td>\n",
       "      <td>0.406938</td>\n",
       "      <td>0.569185</td>\n",
       "      <td>-0.407911</td>\n",
       "      <td>0.656365</td>\n",
       "    </tr>\n",
       "    <tr>\n",
       "      <th>4</th>\n",
       "      <td>usgs-02423397</td>\n",
       "      <td>cat_491334_partial</td>\n",
       "      <td>-0.501999</td>\n",
       "      <td>-0.092996</td>\n",
       "      <td>-0.865688</td>\n",
       "      <td>1.045464</td>\n",
       "    </tr>\n",
       "    <tr>\n",
       "      <th>5</th>\n",
       "      <td>usgs-02423397</td>\n",
       "      <td>nwm30_retrospective</td>\n",
       "      <td>0.528123</td>\n",
       "      <td>0.536092</td>\n",
       "      <td>-0.114646</td>\n",
       "      <td>0.681108</td>\n",
       "    </tr>\n",
       "    <tr>\n",
       "      <th>6</th>\n",
       "      <td>usgs-02423414</td>\n",
       "      <td>cat_491334_partial</td>\n",
       "      <td>0.022763</td>\n",
       "      <td>-1.512941</td>\n",
       "      <td>-0.434056</td>\n",
       "      <td>1.585226</td>\n",
       "    </tr>\n",
       "    <tr>\n",
       "      <th>7</th>\n",
       "      <td>usgs-02423414</td>\n",
       "      <td>nwm30_retrospective</td>\n",
       "      <td>0.111076</td>\n",
       "      <td>0.087543</td>\n",
       "      <td>-0.245032</td>\n",
       "      <td>0.955226</td>\n",
       "    </tr>\n",
       "    <tr>\n",
       "      <th>8</th>\n",
       "      <td>usgs-02423425</td>\n",
       "      <td>cat_491334_partial</td>\n",
       "      <td>-0.063768</td>\n",
       "      <td>-1.923545</td>\n",
       "      <td>0.234052</td>\n",
       "      <td>1.709838</td>\n",
       "    </tr>\n",
       "    <tr>\n",
       "      <th>9</th>\n",
       "      <td>usgs-02423425</td>\n",
       "      <td>nwm30_retrospective</td>\n",
       "      <td>0.705048</td>\n",
       "      <td>0.669517</td>\n",
       "      <td>-0.017121</td>\n",
       "      <td>0.574877</td>\n",
       "    </tr>\n",
       "    <tr>\n",
       "      <th>10</th>\n",
       "      <td>usgs-02423496</td>\n",
       "      <td>cat_491334_partial</td>\n",
       "      <td>0.428868</td>\n",
       "      <td>-0.335959</td>\n",
       "      <td>-0.087024</td>\n",
       "      <td>1.155837</td>\n",
       "    </tr>\n",
       "    <tr>\n",
       "      <th>11</th>\n",
       "      <td>usgs-02423496</td>\n",
       "      <td>nwm30_retrospective</td>\n",
       "      <td>0.608760</td>\n",
       "      <td>0.681288</td>\n",
       "      <td>-0.087427</td>\n",
       "      <td>0.564545</td>\n",
       "    </tr>\n",
       "    <tr>\n",
       "      <th>12</th>\n",
       "      <td>usgs-02423500</td>\n",
       "      <td>cat_491334_partial</td>\n",
       "      <td>0.289889</td>\n",
       "      <td>-0.438064</td>\n",
       "      <td>-0.071401</td>\n",
       "      <td>1.199193</td>\n",
       "    </tr>\n",
       "    <tr>\n",
       "      <th>13</th>\n",
       "      <td>usgs-02423500</td>\n",
       "      <td>nwm30_retrospective</td>\n",
       "      <td>0.607488</td>\n",
       "      <td>0.721938</td>\n",
       "      <td>-0.155748</td>\n",
       "      <td>0.527316</td>\n",
       "    </tr>\n",
       "    <tr>\n",
       "      <th>14</th>\n",
       "      <td>usgs-0242354750</td>\n",
       "      <td>cat_491334_partial</td>\n",
       "      <td>-0.064150</td>\n",
       "      <td>-0.093894</td>\n",
       "      <td>-0.695550</td>\n",
       "      <td>1.045894</td>\n",
       "    </tr>\n",
       "    <tr>\n",
       "      <th>15</th>\n",
       "      <td>usgs-0242354750</td>\n",
       "      <td>nwm30_retrospective</td>\n",
       "      <td>0.615784</td>\n",
       "      <td>0.380583</td>\n",
       "      <td>-0.112733</td>\n",
       "      <td>0.787030</td>\n",
       "    </tr>\n",
       "    <tr>\n",
       "      <th>16</th>\n",
       "      <td>usgs-02423555</td>\n",
       "      <td>nwm30_retrospective</td>\n",
       "      <td>0.281017</td>\n",
       "      <td>0.623687</td>\n",
       "      <td>0.678413</td>\n",
       "      <td>0.613444</td>\n",
       "    </tr>\n",
       "  </tbody>\n",
       "</table>\n",
       "</div>"
      ],
      "text/plain": [
       "   primary_location_id   configuration_name  kling_gupta_efficiency  \\\n",
       "0        usgs-02423130   cat_491334_partial                0.080198   \n",
       "1        usgs-02423130  nwm30_retrospective                0.175289   \n",
       "2        usgs-02423380   cat_491334_partial               -0.517943   \n",
       "3        usgs-02423380  nwm30_retrospective                0.406938   \n",
       "4        usgs-02423397   cat_491334_partial               -0.501999   \n",
       "5        usgs-02423397  nwm30_retrospective                0.528123   \n",
       "6        usgs-02423414   cat_491334_partial                0.022763   \n",
       "7        usgs-02423414  nwm30_retrospective                0.111076   \n",
       "8        usgs-02423425   cat_491334_partial               -0.063768   \n",
       "9        usgs-02423425  nwm30_retrospective                0.705048   \n",
       "10       usgs-02423496   cat_491334_partial                0.428868   \n",
       "11       usgs-02423496  nwm30_retrospective                0.608760   \n",
       "12       usgs-02423500   cat_491334_partial                0.289889   \n",
       "13       usgs-02423500  nwm30_retrospective                0.607488   \n",
       "14     usgs-0242354750   cat_491334_partial               -0.064150   \n",
       "15     usgs-0242354750  nwm30_retrospective                0.615784   \n",
       "16       usgs-02423555  nwm30_retrospective                0.281017   \n",
       "\n",
       "    nash_sutcliffe_efficiency  relative_bias  \\\n",
       "0                   -0.454538      -0.475969   \n",
       "1                    0.395477      -0.555731   \n",
       "2                   -2.972862       0.463203   \n",
       "3                    0.569185      -0.407911   \n",
       "4                   -0.092996      -0.865688   \n",
       "5                    0.536092      -0.114646   \n",
       "6                   -1.512941      -0.434056   \n",
       "7                    0.087543      -0.245032   \n",
       "8                   -1.923545       0.234052   \n",
       "9                    0.669517      -0.017121   \n",
       "10                  -0.335959      -0.087024   \n",
       "11                   0.681288      -0.087427   \n",
       "12                  -0.438064      -0.071401   \n",
       "13                   0.721938      -0.155748   \n",
       "14                  -0.093894      -0.695550   \n",
       "15                   0.380583      -0.112733   \n",
       "16                   0.623687       0.678413   \n",
       "\n",
       "    root_mean_standard_deviation_ratio  \n",
       "0                             1.206042  \n",
       "1                             0.777511  \n",
       "2                             1.993204  \n",
       "3                             0.656365  \n",
       "4                             1.045464  \n",
       "5                             0.681108  \n",
       "6                             1.585226  \n",
       "7                             0.955226  \n",
       "8                             1.709838  \n",
       "9                             0.574877  \n",
       "10                            1.155837  \n",
       "11                            0.564545  \n",
       "12                            1.199193  \n",
       "13                            0.527316  \n",
       "14                            1.045894  \n",
       "15                            0.787030  \n",
       "16                            0.613444  "
      ]
     },
     "metadata": {},
     "output_type": "display_data"
    }
   ],
   "source": [
    "if 2 in run_options:\n",
    "    print(\"Running option 2: Calculating performance metrics\")\n",
    "    teehr_ngiab.calculate_metrics(\n",
    "        teehr_evaluation_dir=TEEHR_EVALUATION_DIR,\n",
    "        metrics_csv_filepath=METRICS_CSV_FILEPATH\n",
    "    )\n",
    "    # Display the calculated metrics.\n",
    "    metrics_df = pd.read_csv(METRICS_CSV_FILEPATH)\n",
    "    display(metrics_df)"
   ]
  }
 ],
 "metadata": {
  "kernelspec": {
   "display_name": "Python 3 (ipykernel)",
   "language": "python",
   "name": "python3"
  },
  "language_info": {
   "codemirror_mode": {
    "name": "ipython",
    "version": 3
   },
   "file_extension": ".py",
   "mimetype": "text/x-python",
   "name": "python",
   "nbconvert_exporter": "python",
   "pygments_lexer": "ipython3",
   "version": "3.11.11"
  },
  "papermill": {
   "default_parameters": {},
   "duration": 26.357263,
   "end_time": "2025-05-24T10:10:19.221155",
   "environment_variables": {},
   "exception": null,
   "input_path": "/app/notebooks/01_TEEHR_Runner.ipynb",
   "output_path": "/app/notebooks/01_TEEHR_Runner.ipynb",
   "parameters": {},
   "start_time": "2025-05-24T10:09:52.863892",
   "version": "2.6.0"
  }
 },
 "nbformat": 4,
 "nbformat_minor": 5
}