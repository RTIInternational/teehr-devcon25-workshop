{
 "cells": [
  {
   "cell_type": "code",
   "execution_count": null,
   "id": "7dd0fe51",
   "metadata": {},
   "outputs": [],
   "source": [
    "from pathlib import Path\n",
    "import os\n",
    "\n",
    "import teehr\n",
    "\n",
    "from utils import teehr_utils\n",
    "from teehr.evaluation.utils import print_tree"
   ]
  },
  {
   "cell_type": "code",
   "execution_count": null,
   "id": "9b41bfe6-036f-4ce3-b4bd-b2c8b76d1911",
   "metadata": {},
   "outputs": [],
   "source": [
    "MOUNTED_DATA_DIR = Path(os.environ.get(\"NGIAB_OUTPUT_DIR\"))\n",
    "configuration_name = teehr_utils.sanitize_string(MOUNTED_DATA_DIR.name)\n",
    "print(f\"NGIAB output directory: {MOUNTED_DATA_DIR}\")"
   ]
  },
  {
   "cell_type": "code",
   "execution_count": null,
   "id": "ad7ee24c",
   "metadata": {},
   "outputs": [],
   "source": [
    "TEEHR_EVALUATION_DIR = Path(\"/app/data/teehr\")\n",
    "\n",
    "# Create an Evaluation object and create the directory\n",
    "ev = teehr.Evaluation(dir_path=TEEHR_EVALUATION_DIR)"
   ]
  },
  {
   "cell_type": "markdown",
   "id": "d528c201",
   "metadata": {},
   "source": [
    "Reference: https://rtiinternational.github.io/teehr/user_guide/notebooks/01_introduction_schema.html"
   ]
  },
  {
   "cell_type": "code",
   "execution_count": null,
   "id": "1bd78a0b-e0d0-46ab-89e8-fc494bfd3d88",
   "metadata": {},
   "outputs": [],
   "source": [
    "print_tree(TEEHR_EVALUATION_DIR, max_depth=1)"
   ]
  },
  {
   "cell_type": "code",
   "execution_count": null,
   "id": "ee05d49a",
   "metadata": {},
   "outputs": [],
   "source": [
    "gdf = ev.locations.to_geopandas()\n",
    "gdf.teehr.locations_map()"
   ]
  }
 ],
 "metadata": {
  "kernelspec": {
   "display_name": "Python 3 (ipykernel)",
   "language": "python",
   "name": "python3"
  },
  "language_info": {
   "codemirror_mode": {
    "name": "ipython",
    "version": 3
   },
   "file_extension": ".py",
   "mimetype": "text/x-python",
   "name": "python",
   "nbconvert_exporter": "python",
   "pygments_lexer": "ipython3",
   "version": "3.11.11"
  }
 },
 "nbformat": 4,
 "nbformat_minor": 5
}
