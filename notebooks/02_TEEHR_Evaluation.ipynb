{
 "cells": [
  {
   "cell_type": "code",
   "execution_count": null,
   "id": "7dd0fe51",
   "metadata": {},
   "outputs": [],
   "source": [
    "from pathlib import Path\n",
    "import os\n",
    "\n",
    "import teehr\n",
    "from utils import teehr_ngiab\n",
    "from teehr.evaluation.utils import print_tree\n",
    "\n",
    "# Enable use of accessor\n",
    "from bokeh.io import output_notebook\n",
    "output_notebook()"
   ]
  },
  {
   "cell_type": "code",
   "execution_count": null,
   "id": "9b41bfe6-036f-4ce3-b4bd-b2c8b76d1911",
   "metadata": {},
   "outputs": [],
   "source": [
    "MOUNTED_DATA_DIR = Path(os.environ.get(\"NGIAB_OUTPUT_DIR\"))\n",
    "configuration_name = teehr_ngiab.sanitize_string(MOUNTED_DATA_DIR.name)\n",
    "print(f\"NGIAB output directory: {MOUNTED_DATA_DIR}\")"
   ]
  },
  {
   "cell_type": "code",
   "execution_count": null,
   "id": "ad7ee24c",
   "metadata": {},
   "outputs": [],
   "source": [
    "TEEHR_EVALUATION_DIR = Path(\"/app/data/teehr\")\n",
    "\n",
    "# Create an Evaluation object and create the directory\n",
    "ev = teehr.Evaluation(dir_path=TEEHR_EVALUATION_DIR)"
   ]
  },
  {
   "cell_type": "markdown",
   "id": "d528c201",
   "metadata": {},
   "source": [
    "Reference: https://rtiinternational.github.io/teehr/user_guide/notebooks/01_introduction_schema.html"
   ]
  },
  {
   "cell_type": "code",
   "execution_count": null,
   "id": "1bd78a0b-e0d0-46ab-89e8-fc494bfd3d88",
   "metadata": {},
   "outputs": [],
   "source": [
    "print_tree(TEEHR_EVALUATION_DIR, max_depth=1)"
   ]
  },
  {
   "cell_type": "markdown",
   "id": "5ac00841-47ec-4288-9d15-6721a075839b",
   "metadata": {},
   "source": [
    "#### Location Data Tables"
   ]
  },
  {
   "cell_type": "markdown",
   "id": "c23cf3dc",
   "metadata": {},
   "source": [
    "- `locations` - spatial data (ie, gage locations)\n",
    "- `location_crosswalks` - crosswalk table relating primary vs. secondary IDs\n",
    "- `location_attributes` - attribute data per location"
   ]
  },
  {
   "cell_type": "code",
   "execution_count": null,
   "id": "ee05d49a",
   "metadata": {},
   "outputs": [],
   "source": [
    "locations_gdf = ev.locations.to_geopandas()\n",
    "locations_gdf"
   ]
  },
  {
   "cell_type": "code",
   "execution_count": null,
   "id": "8dad381a-4905-418f-aa78-ddb99fe1c86b",
   "metadata": {},
   "outputs": [],
   "source": [
    "locations_gdf.teehr.locations_map()"
   ]
  },
  {
   "cell_type": "code",
   "execution_count": null,
   "id": "65ca9016-25b5-4fcd-8651-ecbbad684203",
   "metadata": {},
   "outputs": [],
   "source": [
    "ev.location_crosswalks.to_pandas()"
   ]
  },
  {
   "cell_type": "markdown",
   "id": "5d82da37",
   "metadata": {},
   "source": [
    "#### Domain Tables"
   ]
  },
  {
   "cell_type": "markdown",
   "id": "55eeda0d",
   "metadata": {},
   "source": [
    "\"Lookup tables\" that help keep data consistent.\n",
    "- `units`\n",
    "- `variables`\n",
    "- `configurations`\n",
    "- `attributes`"
   ]
  },
  {
   "cell_type": "markdown",
   "id": "24d1a081-0b13-41e1-b3a1-130f33cda03f",
   "metadata": {},
   "source": [
    "#### Timeseries Tables\n",
    "- `primary_timeseries`\n",
    "- `secondary_timeseries`\n",
    "- `joined_timeseries`"
   ]
  },
  {
   "cell_type": "code",
   "execution_count": null,
   "id": "8e85de8b-3c6e-4ca3-bd72-83382f4543ad",
   "metadata": {},
   "outputs": [],
   "source": [
    "ev.primary_timeseries.to_sdf().show()"
   ]
  },
  {
   "cell_type": "code",
   "execution_count": null,
   "id": "f117bfcd-ec8a-4134-bf58-86721fc32ddb",
   "metadata": {},
   "outputs": [],
   "source": [
    "ev.secondary_timeseries.to_sdf().show()"
   ]
  },
  {
   "cell_type": "code",
   "execution_count": null,
   "id": "913bd6bc-c747-4199-898d-caca5c347582",
   "metadata": {},
   "outputs": [],
   "source": [
    "ev.joined_timeseries.to_sdf().show()"
   ]
  },
  {
   "cell_type": "markdown",
   "id": "c7caf3ba",
   "metadata": {},
   "source": [
    "#### Schema"
   ]
  },
  {
   "cell_type": "markdown",
   "id": "8a6dbfc4",
   "metadata": {},
   "source": [
    "<div>\n",
    "<img src=\"../materials/images/data_model.drawio.png\" width=\"700\"/>\n",
    "</div>\n"
   ]
  },
  {
   "cell_type": "markdown",
   "id": "37a417a0",
   "metadata": {},
   "source": []
  }
 ],
 "metadata": {
  "kernelspec": {
   "display_name": "Python 3 (ipykernel)",
   "language": "python",
   "name": "python3"
  },
  "language_info": {
   "codemirror_mode": {
    "name": "ipython",
    "version": 3
   },
   "file_extension": ".py",
   "mimetype": "text/x-python",
   "name": "python",
   "nbconvert_exporter": "python",
   "pygments_lexer": "ipython3",
   "version": "3.11.11"
  }
 },
 "nbformat": 4,
 "nbformat_minor": 5
}
