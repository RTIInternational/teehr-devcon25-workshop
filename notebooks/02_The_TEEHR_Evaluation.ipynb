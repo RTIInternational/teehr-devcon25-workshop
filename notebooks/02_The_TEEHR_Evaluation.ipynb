{
 "cells": [
  {
   "cell_type": "markdown",
   "id": "3fd1b8e8",
   "metadata": {},
   "source": [
    "## Exploring the TEEHR Evaluation\n",
    "\n",
    "---"
   ]
  },
  {
   "cell_type": "code",
   "execution_count": null,
   "id": "7dd0fe51",
   "metadata": {},
   "outputs": [],
   "source": [
    "from pathlib import Path\n",
    "import os\n",
    "\n",
    "import teehr\n",
    "from utils import teehr_ngiab\n",
    "from teehr.evaluation.utils import print_tree\n",
    "\n",
    "# Enable use of accessor\n",
    "from bokeh.io import output_notebook\n",
    "output_notebook()"
   ]
  },
  {
   "cell_type": "code",
   "execution_count": null,
   "id": "9b41bfe6-036f-4ce3-b4bd-b2c8b76d1911",
   "metadata": {},
   "outputs": [],
   "source": [
    "MOUNTED_DATA_DIR = Path(os.environ.get(\"NGIAB_OUTPUT_DIR\"))\n",
    "configuration_name = teehr_ngiab.sanitize_string(MOUNTED_DATA_DIR.name)\n",
    "print(f\"NGIAB output directory: {MOUNTED_DATA_DIR}\")"
   ]
  },
  {
   "cell_type": "markdown",
   "id": "62703ba3-dc7f-421a-9bd7-f54bbdf6f657",
   "metadata": {},
   "source": [
    "#### Initialize the Evaluation object"
   ]
  },
  {
   "cell_type": "code",
   "execution_count": null,
   "id": "ad7ee24c",
   "metadata": {},
   "outputs": [],
   "source": [
    "TEEHR_EVALUATION_DIR = Path(\"/app/data/teehr\")\n",
    "\n",
    "# Initialize an Evaluation object from the directory\n",
    "ev = teehr.Evaluation(dir_path=TEEHR_EVALUATION_DIR)"
   ]
  },
  {
   "cell_type": "code",
   "execution_count": null,
   "id": "1bd78a0b-e0d0-46ab-89e8-fc494bfd3d88",
   "metadata": {},
   "outputs": [],
   "source": [
    "print_tree(TEEHR_EVALUATION_DIR, max_depth=2)"
   ]
  },
  {
   "cell_type": "markdown",
   "id": "5ac00841-47ec-4288-9d15-6721a075839b",
   "metadata": {},
   "source": [
    "#### Location Data Tables"
   ]
  },
  {
   "cell_type": "markdown",
   "id": "c23cf3dc",
   "metadata": {},
   "source": [
    "- `locations` - spatial data (ie, gage locations)\n",
    "- `location_crosswalks` - crosswalk table relating primary vs. secondary IDs\n",
    "- `location_attributes` - attribute data per location"
   ]
  },
  {
   "cell_type": "code",
   "execution_count": null,
   "id": "ee05d49a",
   "metadata": {},
   "outputs": [],
   "source": [
    "locations_gdf = ev.locations.to_geopandas()\n",
    "locations_gdf"
   ]
  },
  {
   "cell_type": "code",
   "execution_count": null,
   "id": "8dad381a-4905-418f-aa78-ddb99fe1c86b",
   "metadata": {},
   "outputs": [],
   "source": [
    "locations_gdf.teehr.locations_map()"
   ]
  },
  {
   "cell_type": "code",
   "execution_count": null,
   "id": "65ca9016-25b5-4fcd-8651-ecbbad684203",
   "metadata": {},
   "outputs": [],
   "source": [
    "ev.location_crosswalks.to_pandas().head()"
   ]
  },
  {
   "cell_type": "markdown",
   "id": "5d82da37",
   "metadata": {},
   "source": [
    "#### Domain Tables"
   ]
  },
  {
   "cell_type": "markdown",
   "id": "55eeda0d",
   "metadata": {},
   "source": [
    "\"Lookup tables\" that help keep data consistent.\n",
    "- `units`\n",
    "- `variables`\n",
    "- `configurations`\n",
    "- `attributes`"
   ]
  },
  {
   "cell_type": "code",
   "execution_count": null,
   "id": "11480b80-ac06-4d78-bdd6-cc17b911e0b0",
   "metadata": {},
   "outputs": [],
   "source": [
    "# Example:\n",
    "ev.units.to_pandas()"
   ]
  },
  {
   "cell_type": "markdown",
   "id": "24d1a081-0b13-41e1-b3a1-130f33cda03f",
   "metadata": {},
   "source": [
    "#### Timeseries Tables\n",
    "- `primary_timeseries` - \"observations\"\n",
    "- `secondary_timeseries` - \"simulations\"\n",
    "- `joined_timeseries` - paired timeseries"
   ]
  },
  {
   "cell_type": "code",
   "execution_count": null,
   "id": "8e85de8b-3c6e-4ca3-bd72-83382f4543ad",
   "metadata": {},
   "outputs": [],
   "source": [
    "# Example:\n",
    "ev.primary_timeseries.to_sdf().show()"
   ]
  },
  {
   "cell_type": "markdown",
   "id": "c7caf3ba",
   "metadata": {},
   "source": [
    "#### Schema"
   ]
  },
  {
   "cell_type": "markdown",
   "id": "8a6dbfc4",
   "metadata": {},
   "source": [
    "https://rtiinternational.github.io/teehr/user_guide/notebooks/01_introduction_schema.html"
   ]
  },
  {
   "cell_type": "markdown",
   "id": "62bde227",
   "metadata": {},
   "source": [
    "#### Table Methods"
   ]
  },
  {
   "cell_type": "markdown",
   "id": "422c1260-5dae-472c-a7b5-d83c6c88deb5",
   "metadata": {},
   "source": [
    "##### List table fields"
   ]
  },
  {
   "cell_type": "code",
   "execution_count": null,
   "id": "5ef0b9ce",
   "metadata": {},
   "outputs": [],
   "source": [
    "ev.joined_timeseries.fields()"
   ]
  },
  {
   "cell_type": "markdown",
   "id": "40849b5c-19af-4ca2-87fb-d5de660389de",
   "metadata": {},
   "source": [
    "##### Show distinct values in a given field"
   ]
  },
  {
   "cell_type": "code",
   "execution_count": null,
   "id": "32573dfc-bd8f-493a-a0e8-e2ac0b500298",
   "metadata": {},
   "outputs": [],
   "source": [
    "# Distinct field values\n",
    "ev.joined_timeseries.distinct_values(\"configuration_name\")"
   ]
  },
  {
   "cell_type": "markdown",
   "id": "27bd5871-7141-49da-847e-557c72b6db81",
   "metadata": {},
   "source": [
    "##### Query a table using filters"
   ]
  },
  {
   "cell_type": "code",
   "execution_count": null,
   "id": "7f0200a0-63f4-4565-91d1-97a83898bbde",
   "metadata": {},
   "outputs": [],
   "source": [
    "ev.joined_timeseries.query(\n",
    "    filters=[\n",
    "        \"configuration_name =  'cat_491334_partial'\",\n",
    "        \"primary_location_id = 'usgs-02423130'\"\n",
    "    ]\n",
    ").to_pandas().head()"
   ]
  },
  {
   "cell_type": "markdown",
   "id": "40e4583d",
   "metadata": {},
   "source": [
    "#### Calculating Performance Metrics"
   ]
  },
  {
   "cell_type": "markdown",
   "id": "f13b2229-7a07-473a-af03-21dd54a83651",
   "metadata": {},
   "source": [
    "##### Metrics in TEEHR are organized into 3 categories:\n",
    "- Deterministic (KGE, bias, rmse...)\n",
    "- Signature (average, count, max...)\n",
    "- Probabilistic (CRPS)"
   ]
  },
  {
   "cell_type": "code",
   "execution_count": null,
   "id": "58df3f0c-333d-4524-9700-33e8c3249de1",
   "metadata": {},
   "outputs": [],
   "source": [
    "metrics_gdf = ev.metrics.query(\n",
    "    group_by=[\"primary_location_id\", \"configuration_name\"],\n",
    "    order_by=[\"primary_location_id\"],\n",
    "    include_metrics=[\n",
    "        teehr.DeterministicMetrics.KlingGuptaEfficiency(),\n",
    "        teehr.SignatureMetrics.Average(),\n",
    "        teehr.SignatureMetrics.MaxValueTime(),\n",
    "        teehr.DeterministicMetrics.MeanAbsoluteError()\n",
    "    ]\n",
    ").to_geopandas()\n",
    "metrics_gdf"
   ]
  }
 ],
 "metadata": {
  "kernelspec": {
   "display_name": "Python 3 (ipykernel)",
   "language": "python",
   "name": "python3"
  },
  "language_info": {
   "codemirror_mode": {
    "name": "ipython",
    "version": 3
   },
   "file_extension": ".py",
   "mimetype": "text/x-python",
   "name": "python",
   "nbconvert_exporter": "python",
   "pygments_lexer": "ipython3",
   "version": "3.11.11"
  }
 },
 "nbformat": 4,
 "nbformat_minor": 5
}
