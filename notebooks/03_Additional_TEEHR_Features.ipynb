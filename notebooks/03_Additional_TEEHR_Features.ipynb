{
 "cells": [
  {
   "cell_type": "markdown",
   "id": "a4c26d72",
   "metadata": {},
   "source": [
    "## Exploring TEEHR's Additional Features\n",
    "\n",
    "---"
   ]
  },
  {
   "cell_type": "markdown",
   "id": "a3143ac8",
   "metadata": {},
   "source": [
    "#### Possible things to cover\n",
    "- Attributes\n",
    "- Event Detection\n",
    "- Ensemble\n",
    "- Bootstrapping\n",
    "- Cloning and reading from S3\n",
    "- Adding calculated fields\n",
    "  - Event detection\n",
    "  - Row-calculated fields\n",
    "- Fetching gridded data?"
   ]
  },
  {
   "cell_type": "markdown",
   "id": "54d8e9a0",
   "metadata": {},
   "source": [
    "#### Future work: EVAAS?"
   ]
  },
  {
   "cell_type": "code",
   "execution_count": null,
   "id": "2b2c662d-73f0-44c7-b40a-8e10c661177d",
   "metadata": {},
   "outputs": [],
   "source": [
    "from pathlib import Path\n",
    "import os\n",
    "\n",
    "import teehr\n",
    "from utils import teehr_ngiab\n",
    "from teehr.evaluation.utils import print_tree\n",
    "\n",
    "# Enable use of accessor\n",
    "from bokeh.io import output_notebook\n",
    "output_notebook()"
   ]
  },
  {
   "cell_type": "code",
   "execution_count": null,
   "id": "b20d3a79-d094-4790-ae96-af49bcd26a5a",
   "metadata": {},
   "outputs": [],
   "source": [
    "MOUNTED_DATA_DIR = Path(os.environ.get(\"NGIAB_OUTPUT_DIR\"))\n",
    "configuration_name = teehr_ngiab.sanitize_string(MOUNTED_DATA_DIR.name)\n",
    "print(f\"NGIAB output directory: {MOUNTED_DATA_DIR}\")"
   ]
  },
  {
   "cell_type": "markdown",
   "id": "49b476ac-6446-442a-a23b-c736fd6bbcd5",
   "metadata": {},
   "source": [
    "#### Initialize the Evaluation object"
   ]
  },
  {
   "cell_type": "code",
   "execution_count": null,
   "id": "03501bf9-ce39-4724-8336-aa09e7da240a",
   "metadata": {},
   "outputs": [],
   "source": [
    "TEEHR_EVALUATION_DIR = Path(\"/app/data/teehr\")\n",
    "\n",
    "# Initialize an Evaluation object from the directory\n",
    "ev = teehr.Evaluation(dir_path=TEEHR_EVALUATION_DIR)"
   ]
  },
  {
   "cell_type": "code",
   "execution_count": null,
   "id": "3bc70788-2cb4-4e44-a5a8-fad3bdfa5fa4",
   "metadata": {},
   "outputs": [],
   "source": [
    "ev.configurations.to_pandas()"
   ]
  },
  {
   "cell_type": "code",
   "execution_count": null,
   "id": "ec73ed4f-a292-423b-844d-656854432ea3",
   "metadata": {},
   "outputs": [],
   "source": [
    "from pyspark.sql.functions import min, max\n",
    "\n",
    "ev.primary_timeseries.to_sdf().select(min(\"value_time\"), max(\"value_time\")).show()"
   ]
  },
  {
   "cell_type": "code",
   "execution_count": null,
   "id": "20afef25-3058-4122-b3bd-ca4618414bf9",
   "metadata": {},
   "outputs": [],
   "source": [
    "locations_gdf = ev.locations.to_geopandas()\n",
    "print(f\"Number of sites: {locations_gdf.index.size}\")\n",
    "locations_gdf.hvplot.points(geo=True, tiles=True)"
   ]
  },
  {
   "cell_type": "markdown",
   "id": "6c96a77c-98a6-496c-89e2-d665b8d9aed7",
   "metadata": {},
   "source": [
    "#### Location Attributes"
   ]
  },
  {
   "cell_type": "code",
   "execution_count": null,
   "id": "d6b21182-ab73-412e-92a6-953fc5c5094b",
   "metadata": {},
   "outputs": [],
   "source": [
    "location_attributes_gdf = ev.location_attributes.to_geopandas()\n",
    "location_attributes_gdf"
   ]
  },
  {
   "cell_type": "markdown",
   "id": "44f51c5a-7a75-498f-941d-9641005c5ce8",
   "metadata": {},
   "source": [
    "##### List the unique location attributes"
   ]
  },
  {
   "cell_type": "code",
   "execution_count": null,
   "id": "b89b8b2f-1892-4e14-887b-4a82fd382358",
   "metadata": {},
   "outputs": [],
   "source": [
    "location_attributes_gdf.attribute_name.unique()"
   ]
  },
  {
   "cell_type": "code",
   "execution_count": null,
   "id": "e5c8d236-4afe-4c86-85aa-9dd2467c432d",
   "metadata": {},
   "outputs": [],
   "source": [
    "location_attributes_gdf.head()"
   ]
  },
  {
   "cell_type": "markdown",
   "id": "bc58f947-474a-4044-9f08-8807dde4c21d",
   "metadata": {},
   "source": [
    "##### The location attributes have been added to the `joined_timeseries` table"
   ]
  },
  {
   "cell_type": "code",
   "execution_count": null,
   "id": "9182dd08-2e66-412d-beed-1436f0e2769b",
   "metadata": {},
   "outputs": [],
   "source": [
    "ev.joined_timeseries.fields()"
   ]
  },
  {
   "cell_type": "markdown",
   "id": "9f765f51-d3f5-4460-b6fe-ee5b240263d3",
   "metadata": {},
   "source": [
    "#### Now we can make use of the location attributes in our metric calculations"
   ]
  },
  {
   "cell_type": "code",
   "execution_count": null,
   "id": "9c219e46-86de-44ad-9a0e-77276b8ea2d1",
   "metadata": {},
   "outputs": [],
   "source": [
    "# # Import geoviews dependencies\n",
    "import holoviews as hv\n",
    "import hvplot.pandas\n",
    "from holoviews import opts\n",
    "import geoviews as gv\n",
    "import geoviews.tile_sources as gts\n",
    "import panel as pn\n",
    "hv.extension('bokeh', logo=False)\n",
    "gv.extension('bokeh', logo=False)"
   ]
  },
  {
   "cell_type": "code",
   "execution_count": null,
   "id": "d69b219e-db10-4e13-b00f-3b8218e8950c",
   "metadata": {},
   "outputs": [],
   "source": [
    "location_attributes_gdf.to_crs(\"EPSG:4326\", inplace=True)"
   ]
  },
  {
   "cell_type": "code",
   "execution_count": null,
   "id": "e522d70b-7e7b-4786-a60b-d5961a6da94b",
   "metadata": {},
   "outputs": [],
   "source": [
    "location_attributes_gdf.attribute_name.unique().tolist()"
   ]
  },
  {
   "cell_type": "code",
   "execution_count": null,
   "id": "a13906ba-0b97-4b98-a21e-d29cda15366d",
   "metadata": {},
   "outputs": [],
   "source": [
    "\n",
    "subset_gdf = location_attributes_gdf[location_attributes_gdf.attribute_name == \"stream_order\"]\n",
    "subset_gdf.hvplot.points(geo=True, tiles=True, c=\"value\")"
   ]
  },
  {
   "cell_type": "code",
   "execution_count": null,
   "id": "429b8869-20e4-4a86-b830-7bef0a839e18",
   "metadata": {},
   "outputs": [],
   "source": [
    "# Create metrics_df\n",
    "metrics_df = ev.metrics.query(\n",
    "    group_by=[\"configuration_name\", \"primary_location_id\"],\n",
    "    include_metrics=[\n",
    "        teehr.DeterministicMetrics.NashSutcliffeEfficiency(),\n",
    "        teehr.DeterministicMetrics.KlingGuptaEfficiency(),\n",
    "        teehr.DeterministicMetrics.RelativeBias(),\n",
    "        teehr.DeterministicMetrics.AnnualPeakRelativeBias(),\n",
    "        teehr.DeterministicMetrics.RootMeanSquareError()\n",
    "    ],\n",
    "    order_by=[\"primary_location_id\"]\n",
    ").to_pandas()"
   ]
  },
  {
   "cell_type": "code",
   "execution_count": null,
   "id": "03b43da2-fcb1-473e-8276-1b83a0bbc303",
   "metadata": {},
   "outputs": [],
   "source": [
    "metrics_df"
   ]
  },
  {
   "cell_type": "markdown",
   "id": "1ac22fee-04b7-4982-b2f2-4dff53397605",
   "metadata": {},
   "source": [
    "#### Let's look at the best performing model configuration across all locations"
   ]
  },
  {
   "cell_type": "code",
   "execution_count": null,
   "id": "2b941d0a-e86b-443f-982b-b95b13cd1744",
   "metadata": {},
   "outputs": [],
   "source": [
    "metrics_df[\n",
    "    [\n",
    "        \"configuration_name\",\n",
    "        \"nash_sutcliffe_efficiency\",\n",
    "        \"kling_gupta_efficiency\"]\n",
    "    ].groupby([\"configuration_name\"]).mean().sort_values(by=\"kling_gupta_efficiency\", ascending=False)"
   ]
  },
  {
   "cell_type": "code",
   "execution_count": null,
   "id": "773744ce-b48c-4a8e-92c8-10a2a3ff3f6c",
   "metadata": {},
   "outputs": [],
   "source": [
    "metrics_df[\n",
    "    [\n",
    "        \"configuration_name\",\n",
    "        \"relative_bias\",\n",
    "        \"annual_peak_flow_bias\",\n",
    "        \"root_mean_square_error\"]\n",
    "    ].groupby([\"configuration_name\"]).mean().sort_values(by=\"root_mean_square_error\", ascending=True)"
   ]
  },
  {
   "cell_type": "markdown",
   "id": "b55a71bd-bf34-4982-aafe-c3a1a7ce41a3",
   "metadata": {},
   "source": [
    "#### Event Detection"
   ]
  },
  {
   "cell_type": "code",
   "execution_count": null,
   "id": "fdb58f05-ba6d-4117-b7df-e3caae845e3a",
   "metadata": {},
   "outputs": [],
   "source": [
    "# Add timeseries-aware row calculated field for Percentile Event Detection (in-memory)\n",
    "sdf = ev.joined_timeseries.add_calculated_fields([\n",
    "    teehr.TimeseriesAwareCalculatedFields.PercentileEventDetection()\n",
    "]).to_sdf()\n",
    "sdf.show(5)"
   ]
  },
  {
   "cell_type": "code",
   "execution_count": null,
   "id": "b0e3a49a-103f-4c4e-b7d2-f1c65ac261ff",
   "metadata": {},
   "outputs": [],
   "source": [
    "# Create dataframe from sdf and filter. USGS gage selected that had high overall NSE.\n",
    "pdf = sdf.filter((sdf.primary_location_id == 'usgs-14301000') & (sdf.event == 'true') & (sdf.configuration_name == 'nwm30_retrospective')).toPandas()\n",
    "pdf.head()"
   ]
  },
  {
   "cell_type": "code",
   "execution_count": null,
   "id": "376e0eaa-ab7e-4a4b-a653-f00de1afa4e1",
   "metadata": {},
   "outputs": [],
   "source": [
    "# plot events\n",
    "event_plot = pdf.hvplot.points(x='value_time', y='primary_value', color='event_id')\n",
    "event_plot.opts(width=1200, height=600)"
   ]
  },
  {
   "cell_type": "code",
   "execution_count": null,
   "id": "f28ae9c1-903c-45fa-8a12-94076f652029",
   "metadata": {},
   "outputs": [],
   "source": []
  }
 ],
 "metadata": {
  "kernelspec": {
   "display_name": "Python 3 (ipykernel)",
   "language": "python",
   "name": "python3"
  },
  "language_info": {
   "codemirror_mode": {
    "name": "ipython",
    "version": 3
   },
   "file_extension": ".py",
   "mimetype": "text/x-python",
   "name": "python",
   "nbconvert_exporter": "python",
   "pygments_lexer": "ipython3",
   "version": "3.11.11"
  }
 },
 "nbformat": 4,
 "nbformat_minor": 5
}
