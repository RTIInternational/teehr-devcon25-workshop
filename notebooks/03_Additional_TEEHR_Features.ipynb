{
 "cells": [
  {
   "cell_type": "markdown",
   "id": "a4c26d72",
   "metadata": {},
   "source": [
    "## Exploring TEEHR's Additional Features\n",
    "\n",
    "---"
   ]
  },
  {
   "cell_type": "markdown",
   "id": "a3143ac8",
   "metadata": {},
   "source": [
    "#### Possible things to cover\n",
    "- Attributes\n",
    "- Event Detection\n",
    "- Ensemble\n",
    "- Bootstrapping\n",
    "- Cloning and reading from S3\n",
    "- Adding calculated fields\n",
    "  - Event detection\n",
    "  - Row-calculated fields\n",
    "- Fetching gridded data?"
   ]
  },
  {
   "cell_type": "code",
   "execution_count": null,
   "id": "2b2c662d-73f0-44c7-b40a-8e10c661177d",
   "metadata": {},
   "outputs": [],
   "source": [
    "from pathlib import Path\n",
    "import os\n",
    "import shutil\n",
    "\n",
    "import teehr\n",
    "from utils import teehr_ngiab\n",
    "from teehr.evaluation.utils import print_tree\n",
    "from pyspark.sql.functions import min, max\n",
    "\n",
    "import hvplot.pandas  # noqa"
   ]
  },
  {
   "cell_type": "code",
   "execution_count": null,
   "id": "b20d3a79-d094-4790-ae96-af49bcd26a5a",
   "metadata": {},
   "outputs": [],
   "source": [
    "MOUNTED_DATA_DIR = Path(os.environ.get(\"NGIAB_OUTPUT_DIR\"))\n",
    "configuration_name = teehr_ngiab.sanitize_string(MOUNTED_DATA_DIR.name)\n",
    "print(f\"NGIAB output directory: {MOUNTED_DATA_DIR}\")"
   ]
  },
  {
   "cell_type": "markdown",
   "id": "49b476ac-6446-442a-a23b-c736fd6bbcd5",
   "metadata": {},
   "source": [
    "#### Initialize the Evaluation object"
   ]
  },
  {
   "cell_type": "code",
   "execution_count": null,
   "id": "03501bf9-ce39-4724-8336-aa09e7da240a",
   "metadata": {},
   "outputs": [],
   "source": [
    "TEEHR_EVALUATION_DIR = Path(\"/app/data\")\n",
    "\n",
    "# Initialize an Evaluation object from the directory\n",
    "ev = teehr.Evaluation(dir_path=TEEHR_EVALUATION_DIR)"
   ]
  },
  {
   "cell_type": "code",
   "execution_count": null,
   "id": "3bc70788-2cb4-4e44-a5a8-fad3bdfa5fa4",
   "metadata": {},
   "outputs": [],
   "source": [
    "ev.configurations.to_pandas()"
   ]
  },
  {
   "cell_type": "code",
   "execution_count": null,
   "id": "ec73ed4f-a292-423b-844d-656854432ea3",
   "metadata": {},
   "outputs": [],
   "source": [
    "ev.primary_timeseries.to_sdf().select(min(\"value_time\"), max(\"value_time\")).show()"
   ]
  },
  {
   "cell_type": "code",
   "execution_count": null,
   "id": "20afef25-3058-4122-b3bd-ca4618414bf9",
   "metadata": {},
   "outputs": [],
   "source": [
    "locations_gdf = ev.locations.to_geopandas()\n",
    "print(f\"Number of sites: {locations_gdf.index.size}\")\n",
    "locations_gdf.hvplot.points(geo=True, tiles=True).opts(width=800, height=400)"
   ]
  },
  {
   "cell_type": "markdown",
   "id": "6c96a77c-98a6-496c-89e2-d665b8d9aed7",
   "metadata": {},
   "source": [
    "#### Location Attributes"
   ]
  },
  {
   "cell_type": "code",
   "execution_count": null,
   "id": "d6b21182-ab73-412e-92a6-953fc5c5094b",
   "metadata": {},
   "outputs": [],
   "source": [
    "location_attributes_gdf = ev.location_attributes.to_geopandas()\n",
    "location_attributes_gdf"
   ]
  },
  {
   "cell_type": "markdown",
   "id": "44f51c5a-7a75-498f-941d-9641005c5ce8",
   "metadata": {},
   "source": [
    "##### List the unique location attributes"
   ]
  },
  {
   "cell_type": "code",
   "execution_count": null,
   "id": "b89b8b2f-1892-4e14-887b-4a82fd382358",
   "metadata": {},
   "outputs": [],
   "source": [
    "location_attributes_gdf.attribute_name.unique()"
   ]
  },
  {
   "cell_type": "markdown",
   "id": "bc58f947-474a-4044-9f08-8807dde4c21d",
   "metadata": {},
   "source": [
    "##### The location attributes have been added to the `joined_timeseries` table"
   ]
  },
  {
   "cell_type": "code",
   "execution_count": null,
   "id": "9182dd08-2e66-412d-beed-1436f0e2769b",
   "metadata": {},
   "outputs": [],
   "source": [
    "ev.joined_timeseries.fields()"
   ]
  },
  {
   "cell_type": "markdown",
   "id": "9f765f51-d3f5-4460-b6fe-ee5b240263d3",
   "metadata": {},
   "source": [
    "#### Now we can make use of the location attributes in our metric calculations"
   ]
  },
  {
   "cell_type": "markdown",
   "id": "29649e86-bf9a-41f3-b300-0dae929b48e7",
   "metadata": {},
   "source": [
    "##### Let's take a look at stream order"
   ]
  },
  {
   "cell_type": "code",
   "execution_count": null,
   "id": "a13906ba-0b97-4b98-a21e-d29cda15366d",
   "metadata": {},
   "outputs": [],
   "source": [
    "location_attributes_gdf.to_crs(\"EPSG:4326\", inplace=True)\n",
    "order_gdf = location_attributes_gdf[location_attributes_gdf.attribute_name == \"stream_order\"]\n",
    "\n",
    "order_gdf.hvplot.points(\n",
    "    geo=True,\n",
    "    tiles=True,\n",
    "    c=\"value\",\n",
    "    size=50\n",
    ").opts(width=1000, height=600)"
   ]
  },
  {
   "cell_type": "code",
   "execution_count": null,
   "id": "429b8869-20e4-4a86-b830-7bef0a839e18",
   "metadata": {},
   "outputs": [],
   "source": [
    "# Create metrics_df\n",
    "metrics_df = ev.metrics.query(\n",
    "    group_by=[\"configuration_name\", \"stream_order\"],\n",
    "    include_metrics=[\n",
    "        teehr.DeterministicMetrics.KlingGuptaEfficiency()\n",
    "    ],\n",
    "    order_by=[\"configuration_name\", \"kling_gupta_efficiency\"]\n",
    ").to_pandas()\n",
    "metrics_df"
   ]
  },
  {
   "cell_type": "markdown",
   "id": "1ac22fee-04b7-4982-b2f2-4dff53397605",
   "metadata": {},
   "source": [
    "#### Let's look at the best performing model configuration across all locations"
   ]
  },
  {
   "cell_type": "code",
   "execution_count": null,
   "id": "2b941d0a-e86b-443f-982b-b95b13cd1744",
   "metadata": {},
   "outputs": [],
   "source": [
    "metrics_df[\n",
    "    [\n",
    "        \"configuration_name\",\n",
    "        \"kling_gupta_efficiency\"\n",
    "    ]\n",
    "    ].groupby([\"configuration_name\"]).mean().sort_values(by=\"kling_gupta_efficiency\", ascending=False)"
   ]
  },
  {
   "cell_type": "code",
   "execution_count": null,
   "id": "cb3b60ba-e94e-4da8-b792-b2d2108324bd",
   "metadata": {},
   "outputs": [],
   "source": [
    "mean_df = metrics_df[\n",
    "    [\n",
    "        \"configuration_name\",\n",
    "        \"stream_order\",\n",
    "        \"kling_gupta_efficiency\"\n",
    "    ]\n",
    "    ].groupby([\"configuration_name\", \"stream_order\"]).mean().sort_values(by=\"stream_order\", ascending=False)"
   ]
  },
  {
   "cell_type": "code",
   "execution_count": null,
   "id": "ea723072-ca83-4da4-81bd-ea143005c63f",
   "metadata": {},
   "outputs": [],
   "source": []
  },
  {
   "cell_type": "code",
   "execution_count": null,
   "id": "79baf64f-a231-44e0-968d-0fa51a5226a7",
   "metadata": {},
   "outputs": [],
   "source": [
    "mean_df.hvplot.bar(height=600, width=1000, grid=True)"
   ]
  },
  {
   "cell_type": "code",
   "execution_count": null,
   "id": "c97d0e00-0cab-494a-b0d8-ce79b31c0d77",
   "metadata": {},
   "outputs": [],
   "source": []
  },
  {
   "cell_type": "code",
   "execution_count": null,
   "id": "1cb95c4a-de64-4a07-9265-adcc9efc7113",
   "metadata": {},
   "outputs": [],
   "source": []
  },
  {
   "cell_type": "markdown",
   "id": "b55a71bd-bf34-4982-aafe-c3a1a7ce41a3",
   "metadata": {},
   "source": [
    "#### How do models compare for high-flows vs. low flows?"
   ]
  },
  {
   "cell_type": "code",
   "execution_count": null,
   "id": "fdb58f05-ba6d-4117-b7df-e3caae845e3a",
   "metadata": {},
   "outputs": [],
   "source": [
    "# Add timeseries-aware row calculated field for Percentile Event Detection (in-memory)\n",
    "events_df = (\n",
    "    ev.\n",
    "    joined_timeseries.\n",
    "    filter(\"primary_location_id = 'usgs-14301000'\").\n",
    "    filter(\"configuration_name = 'nwm30_retrospective'\").\n",
    "    add_calculated_fields(\n",
    "        teehr.TimeseriesAwareCalculatedFields.PercentileEventDetection()\n",
    "    ).\n",
    "    filter(\"event = 'true'\")\n",
    ").to_pandas()\n"
   ]
  },
  {
   "cell_type": "code",
   "execution_count": null,
   "id": "dfe4d0cc-1d5a-44cf-9552-126c73affd2e",
   "metadata": {},
   "outputs": [],
   "source": []
  },
  {
   "cell_type": "code",
   "execution_count": null,
   "id": "ac722408-05c1-4ede-b780-c929d8ba127a",
   "metadata": {},
   "outputs": [],
   "source": [
    "events_df.head()"
   ]
  },
  {
   "cell_type": "code",
   "execution_count": null,
   "id": "376e0eaa-ab7e-4a4b-a653-f00de1afa4e1",
   "metadata": {},
   "outputs": [],
   "source": [
    "# plot events\n",
    "usgs_df = ev.primary_timeseries.filter(\"location_id = 'usgs-14301000'\").to_pandas()\n",
    "usgs_plot = usgs_df.hvplot.line(x='value_time', y='value')\n",
    "\n",
    "event_plot = events_df.hvplot.points(x='value_time', y='primary_value', color='event_id')\n",
    "(usgs_plot * event_plot).opts(width=1200, height=600, show_legend=False)"
   ]
  },
  {
   "cell_type": "code",
   "execution_count": null,
   "id": "fc1cb2b3-060a-4372-a167-ae3e21fce3cf",
   "metadata": {},
   "outputs": [],
   "source": [
    "non_events_df = (\n",
    "    ev.\n",
    "    joined_timeseries.\n",
    "    filter(\"primary_location_id = 'usgs-14301000'\").\n",
    "    filter(\"configuration_name = 'nwm30_retrospective'\").\n",
    "    add_calculated_fields(\n",
    "        teehr.TimeseriesAwareCalculatedFields.PercentileEventDetection()\n",
    "    ).\n",
    "    filter(\"event = 'false'\")\n",
    ").to_pandas()"
   ]
  },
  {
   "cell_type": "code",
   "execution_count": null,
   "id": "a66f7a20-077b-4696-ae91-236385b58f61",
   "metadata": {},
   "outputs": [],
   "source": [
    "non_event_plot = non_events_df.hvplot.points(x='value_time', y='primary_value', color='gray')\n",
    "(usgs_plot * non_event_plot).opts(width=1200, height=600, show_legend=False)"
   ]
  },
  {
   "cell_type": "markdown",
   "id": "84e2274d-36c9-4609-82ed-c23a809f89fd",
   "metadata": {},
   "source": [
    "#### How do metrics compare for events vs. non-events?"
   ]
  },
  {
   "cell_type": "code",
   "execution_count": null,
   "id": "a1ea2e91-1f7d-448d-a7c8-9afb41737267",
   "metadata": {},
   "outputs": [],
   "source": [
    "event_metrics_df = (\n",
    "    ev.\n",
    "    metrics.\n",
    "    add_calculated_fields(\n",
    "        teehr.TimeseriesAwareCalculatedFields.PercentileEventDetection()\n",
    "    ).\n",
    "    query(\n",
    "        group_by=[\n",
    "            \"configuration_name\",\n",
    "            \"primary_location_id\"\n",
    "        ],\n",
    "        filters=[\n",
    "            \"event = true\",\n",
    "            \"primary_location_id = 'usgs-14301000'\"\n",
    "        ],\n",
    "        include_metrics=[\n",
    "            teehr.DeterministicMetrics.KlingGuptaEfficiency()\n",
    "        ]\n",
    "    )\n",
    ").to_pandas()\n",
    "event_metrics_df"
   ]
  },
  {
   "cell_type": "code",
   "execution_count": null,
   "id": "3830ef53-5978-46c6-a6ce-3178b8fe6092",
   "metadata": {},
   "outputs": [],
   "source": [
    "non_event_metrics_df = (\n",
    "    ev.\n",
    "    metrics.\n",
    "    add_calculated_fields(\n",
    "        teehr.TimeseriesAwareCalculatedFields.PercentileEventDetection()\n",
    "    ).\n",
    "    query(\n",
    "        group_by=[\n",
    "            \"configuration_name\",\n",
    "            \"primary_location_id\"\n",
    "        ],\n",
    "        filters=[\n",
    "            \"event = false\",\n",
    "        ],\n",
    "        include_metrics=[\n",
    "            teehr.DeterministicMetrics.KlingGuptaEfficiency()\n",
    "        ]\n",
    "    )\n",
    ").to_pandas()\n",
    "non_event_metrics_df"
   ]
  },
  {
   "cell_type": "code",
   "execution_count": null,
   "id": "8d63ccd2-2aa1-4d1d-9136-f9c2b7124290",
   "metadata": {},
   "outputs": [],
   "source": []
  },
  {
   "cell_type": "markdown",
   "id": "56643781-3f17-4aa6-9563-6bb1de9af4d5",
   "metadata": {},
   "source": [
    "##### For the purposes of the visualization, let's set any KGE values < 0 to 0."
   ]
  },
  {
   "cell_type": "code",
   "execution_count": null,
   "id": "f1a253d9-3814-4f1a-bb1f-0b5e078d9dcd",
   "metadata": {},
   "outputs": [],
   "source": [
    "event_metrics_df[\"kling_gupta_efficiency\"] = event_metrics_df[\"kling_gupta_efficiency\"].clip(lower=0)\n",
    "non_event_metrics_df[\"kling_gupta_efficiency\"] = non_event_metrics_df[\"kling_gupta_efficiency\"].clip(lower=0)"
   ]
  },
  {
   "cell_type": "markdown",
   "id": "c1353b07-e525-4789-8cca-205cdc764eda",
   "metadata": {},
   "source": [
    "##### Let's compare Event vs. Non-Event KGE using heatmaps"
   ]
  },
  {
   "cell_type": "code",
   "execution_count": null,
   "id": "2b617379-157a-4636-972b-a6919be658f9",
   "metadata": {},
   "outputs": [],
   "source": [
    "event_metrics_df.hvplot.heatmap(\n",
    "    x=\"configuration_name\",\n",
    "    y=\"primary_location_id\",\n",
    "    C=\"kling_gupta_efficiency\",\n",
    "    cmap='YlGnBu',\n",
    "    height=800,\n",
    "    width=800,\n",
    "    title=\"Event KGE\"\n",
    ") + \\\n",
    "non_event_metrics_df.hvplot.heatmap(\n",
    "    x=\"configuration_name\",\n",
    "    y=\"primary_location_id\",\n",
    "    C=\"kling_gupta_efficiency\",\n",
    "    cmap='YlGnBu',\n",
    "    height=800,\n",
    "    width=800,\n",
    "    title=\"Non-event KGE\"\n",
    ")"
   ]
  },
  {
   "cell_type": "markdown",
   "id": "afc74641-c6a3-41a8-9c6e-b867763dec1b",
   "metadata": {},
   "source": [
    "#### Calculate relative bias in event peaks"
   ]
  },
  {
   "cell_type": "code",
   "execution_count": null,
   "id": "d54eec66-7da6-4ab4-8788-1efa9481d16a",
   "metadata": {},
   "outputs": [],
   "source": [
    "metrics_sdf = (\n",
    "    ev.metrics.add_calculated_fields(\n",
    "        teehr.TimeseriesAwareCalculatedFields.PercentileEventDetection()\n",
    "    ).query(\n",
    "        group_by=['configuration_name', 'primary_location_id', 'water_year', 'event'],\n",
    "        filters=[\n",
    "            \"primary_location_id = 'usgs-14301000'\",\n",
    "            \"event = true\",\n",
    "        ],\n",
    "        include_metrics=[\n",
    "            teehr.SignatureMetrics.Maximum(\n",
    "                input_field_names=['primary_value'],\n",
    "                output_field_name='max_primary_value'\n",
    "            ),\n",
    "            teehr.SignatureMetrics.Maximum(\n",
    "                input_field_names=['secondary_value'],\n",
    "                output_field_name='max_secondary_value'\n",
    "            )\n",
    "        ]\n",
    "    )\n",
    "    .query(\n",
    "        group_by=['configuration_name', 'primary_location_id'],\n",
    "        include_metrics=[\n",
    "            teehr.DeterministicMetrics.RelativeBias(\n",
    "                input_field_names=['max_primary_value', 'max_secondary_value'],\n",
    "                output_field_name='annual_max_relative_bias'\n",
    "            )\n",
    "        ]\n",
    "    )\n",
    ").to_pandas()"
   ]
  },
  {
   "cell_type": "code",
   "execution_count": null,
   "id": "8c0389b4-452d-4ed9-b18a-fc063885d528",
   "metadata": {},
   "outputs": [],
   "source": [
    "metrics_sdf"
   ]
  },
  {
   "cell_type": "markdown",
   "id": "1440ad30-080f-4f83-a8b4-bec287bd4542",
   "metadata": {},
   "source": [
    "#### Representing metric uncertainty through bootstrapping"
   ]
  },
  {
   "cell_type": "code",
   "execution_count": null,
   "id": "f4b29e48-2bc7-4cd6-ab55-d1e324518aff",
   "metadata": {},
   "outputs": [],
   "source": [
    "# TODO?"
   ]
  },
  {
   "cell_type": "markdown",
   "id": "6c0c3ec3-240e-4266-9eca-68adf463f15f",
   "metadata": {},
   "source": [
    "#### Cloning from S3"
   ]
  },
  {
   "cell_type": "code",
   "execution_count": null,
   "id": "76d12bed-3864-4eae-89ac-7608699ad42a",
   "metadata": {},
   "outputs": [],
   "source": [
    "# Define the directory where the Evaluation will be created\n",
    "test_eval_dir = Path(Path().home(), \"temp\", \"05_clone_from_s3\")\n",
    "shutil.rmtree(test_eval_dir, ignore_errors=True)\n",
    "\n",
    "# Create an Evaluation object and create the directory\n",
    "ev = teehr.Evaluation(dir_path=test_eval_dir, create_dir=True)"
   ]
  },
  {
   "cell_type": "code",
   "execution_count": null,
   "id": "fbd97bb9-e25c-4042-8fa3-c2d5b11af3ab",
   "metadata": {},
   "outputs": [],
   "source": [
    "# List the evaluations in the S3 bucket\n",
    "ev.list_s3_evaluations()"
   ]
  },
  {
   "cell_type": "code",
   "execution_count": null,
   "id": "445b51c5-c6b0-47bd-b811-f55c94ac68e3",
   "metadata": {},
   "outputs": [],
   "source": [
    "# Clone the e0_2_location_example evaluation from the S3 bucket\n",
    "ev.clone_from_s3(\"e0_2_location_example\")"
   ]
  },
  {
   "cell_type": "code",
   "execution_count": null,
   "id": "4db651d1-ae3e-41d3-ad28-758e2e8eb35e",
   "metadata": {},
   "outputs": [],
   "source": [
    "locations_gdf = ev.locations.to_geopandas()\n",
    "locations_gdf.teehr.locations_map()"
   ]
  },
  {
   "cell_type": "code",
   "execution_count": null,
   "id": "5c86c9ad-22c8-4e17-9e46-86dfdcb0b53a",
   "metadata": {},
   "outputs": [],
   "source": [
    "pt_df = ev. primary_timeseries.to_pandas()\n",
    "pt_df.head()"
   ]
  },
  {
   "cell_type": "markdown",
   "id": "a2ae1ae2-b9c6-40df-b8fe-d30e80b7942e",
   "metadata": {},
   "source": [
    "#### Reading from S3"
   ]
  },
  {
   "cell_type": "code",
   "execution_count": null,
   "id": "0b1798f1-1c79-4378-9b07-d7fc40b5fc19",
   "metadata": {},
   "outputs": [],
   "source": [
    "from teehr.loading.s3.clone_from_s3 import list_s3_evaluations\n",
    "list_s3_evaluations()[\"url\"].values"
   ]
  },
  {
   "cell_type": "code",
   "execution_count": null,
   "id": "f323a681-7169-4932-87b8-c21cb9faafc8",
   "metadata": {},
   "outputs": [],
   "source": [
    "# Create an Evaluation object that points to the S3 location\n",
    "ev = teehr.Evaluation(\"s3a://ciroh-rti-public-data/teehr-data-warehouse/v0_4_evaluations/e0_2_location_example\")"
   ]
  },
  {
   "cell_type": "code",
   "execution_count": null,
   "id": "f9a2cd19-738b-4d53-84ea-52e3873be9ea",
   "metadata": {},
   "outputs": [],
   "source": [
    "locations_gdf = ev.locations.to_geopandas()"
   ]
  },
  {
   "cell_type": "code",
   "execution_count": null,
   "id": "791887d3-2d24-4ce9-9599-0cd4feba159f",
   "metadata": {},
   "outputs": [],
   "source": []
  }
 ],
 "metadata": {
  "kernelspec": {
   "display_name": "Python 3 (ipykernel)",
   "language": "python",
   "name": "python3"
  },
  "language_info": {
   "codemirror_mode": {
    "name": "ipython",
    "version": 3
   },
   "file_extension": ".py",
   "mimetype": "text/x-python",
   "name": "python",
   "nbconvert_exporter": "python",
   "pygments_lexer": "ipython3",
   "version": "3.11.11"
  }
 },
 "nbformat": 4,
 "nbformat_minor": 5
}
