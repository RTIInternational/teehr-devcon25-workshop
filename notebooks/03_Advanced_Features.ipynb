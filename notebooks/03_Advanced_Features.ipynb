{
 "cells": [
  {
   "cell_type": "markdown",
   "id": "a4c26d72",
   "metadata": {},
   "source": [
    "### Exploring TEEHR's Advanced Features"
   ]
  },
  {
   "cell_type": "markdown",
   "id": "a3143ac8",
   "metadata": {},
   "source": [
    "- Attributes\n",
    "- Event Detection\n",
    "- Ensemble\n",
    "- Bootstrapping\n",
    "- Cloning and reading from S3\n",
    "- Adding calculated fields\n",
    "  - Event detection\n",
    "  - Row-calculated fields\n",
    "- Fetching gridded data?"
   ]
  },
  {
   "cell_type": "markdown",
   "id": "54d8e9a0",
   "metadata": {},
   "source": [
    "#### Future work: EVAAS"
   ]
  },
  {
   "cell_type": "markdown",
   "id": "0633e51d",
   "metadata": {},
   "source": []
  }
 ],
 "metadata": {
  "language_info": {
   "name": "python"
  }
 },
 "nbformat": 4,
 "nbformat_minor": 5
}
