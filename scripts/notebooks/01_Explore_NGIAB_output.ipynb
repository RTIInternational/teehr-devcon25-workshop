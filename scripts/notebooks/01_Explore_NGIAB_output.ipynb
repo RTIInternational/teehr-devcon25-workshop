{
 "cells": [
  {
   "cell_type": "markdown",
   "id": "03d3dc14",
   "metadata": {},
   "source": [
    "### This is a sample notebook for exploring the Evaluation"
   ]
  },
  {
   "cell_type": "code",
   "execution_count": null,
   "id": "4ff6694c",
   "metadata": {},
   "outputs": [],
   "source": [
    "import teehr"
   ]
  },
  {
   "cell_type": "code",
   "execution_count": null,
   "id": "12e559ee",
   "metadata": {},
   "outputs": [],
   "source": [
    "EVALUATION_DIR = \"/app/data/teehr\""
   ]
  },
  {
   "cell_type": "markdown",
   "id": "48f9c5c5",
   "metadata": {},
   "source": [
    "Checkout the TEEHR Evaluation dataset that was created from the script."
   ]
  },
  {
   "cell_type": "code",
   "execution_count": null,
   "id": "4413c25c",
   "metadata": {},
   "outputs": [],
   "source": [
    "ev = teehr.Evaluation(dir_path=EVALUATION_DIR)"
   ]
  },
  {
   "cell_type": "code",
   "execution_count": null,
   "id": "12871de6",
   "metadata": {},
   "outputs": [],
   "source": [
    "ev.primary_timeseries.to_sdf().show()"
   ]
  },
  {
   "cell_type": "code",
   "execution_count": null,
   "id": "de4e64b1",
   "metadata": {},
   "outputs": [],
   "source": [
    "ev.secondary_timeseries.to_sdf().show()"
   ]
  },
  {
   "cell_type": "code",
   "execution_count": null,
   "id": "ffcbae27",
   "metadata": {},
   "outputs": [],
   "source": [
    "ev.joined_timeseries.to_sdf().show()"
   ]
  }
 ],
 "metadata": {
  "kernelspec": {
   "display_name": ".venv",
   "language": "python",
   "name": "python3"
  },
  "language_info": {
   "name": "python",
   "version": "3.10.12"
  }
 },
 "nbformat": 4,
 "nbformat_minor": 5
}
